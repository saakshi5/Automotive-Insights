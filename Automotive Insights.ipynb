{
 "cells": [
  {
   "cell_type": "markdown",
   "id": "e5a6acbf-9b2b-4b02-bb5f-03d46264135d",
   "metadata": {},
   "source": [
    "<font size=\"5\">\n",
    "Project Name - Automotive Insights: EDA, Visualization, & Predictive Modeling <br>\n",
    "Project Type - Regression Problem using Regularization <br>\n",
    "Contribution - Indiviual<br>\n",
    "Team member 1 - Sakshi Sataye<br>\n",
    "</font>"
   ]
  },
  {
   "cell_type": "markdown",
   "id": "866932c7-befa-47d0-b278-7da16c10d7c6",
   "metadata": {},
   "source": [
    "<font size=\"5\">Project Summary: </font><br>\n",
    "Introduction: <br>\n",
    "Welcome to our project on the analysis of the cars dataset for Automotive Insights. In this project, we explore and understand the factors influencing cars prices. By leveraging data visualization and exploratory data analysis (EDA) techniques, we aim to uncover insights and patterns that can aid in predicting cars prices accurately.\n",
    "\n",
    "Objectives:<br>\n",
    "The main objectives of this project are as follows:<br>\n",
    "\n",
    "Understand the Cars dataset and its features.<br>\n",
    "\n",
    "Perform data wrangling to clean and preprocess the dataset.<br>\n",
    "\n",
    "Conduct exploratory data analysis (EDA) to gain insights into the data.<br>\n",
    "\n",
    "Visualize the data to identify patterns and relationships.<br>\n",
    "\n",
    "Evaluate machine learning model to predict prices of cars.<br>\n",
    "\n",
    "Conclude with findings.\n",
    "\n",
    "Understanding the Data<br>\n",
    "We begin by exploring the cars dataset, which contains various attributes such as normalized-losses,make,horsepower,engine-size, etc.The target variable is the Price.\n",
    "\n",
    "Data Wrangling<br>\r\n",
    "In this phase, we clean and preprocess the dataset to prepare it for analysis and modeling. This includes handling missing values, encoding categorical variables, scaling numerical features, and splitting the data into training and testing sets .\n",
    "\n",
    "Exploratory Data Analysi (EDA:<br>\n",
    "We delve into the dataset to uncover trends, patterns, and relationships between different variables. Through visualizations such as histograms,pie charts, count and bar plots, we gain insights into the distribution of features and their impact on price.\n",
    "\n",
    "Data Visualization & Conclusion<br>\n",
    "Using various visualization techniques, we present key findings from the EDA phase. Based on our analysis, we draw conclusions and insights regarding factors influencing prices .\n",
    "\n",
    "Machine Learning Model<br>\n",
    "To predict income levels, we employ Linear Regression machine learning algorithm model. We train and evaluate this model using appropriate metrics such as r2_score, mean_squared_error and root mean_squared_error."
   ]
  },
  {
   "cell_type": "markdown",
   "id": "4a0bd488-0d1c-496a-8f7e-6ae417a39a19",
   "metadata": {},
   "source": [
    "<font size=\"5\">Problem Statement</font>"
   ]
  },
  {
   "cell_type": "markdown",
   "id": "67ce9d31-c42d-4d23-a764-9718838ea8c2",
   "metadata": {},
   "source": [
    "1. What is the distribution of car manufacturers in the dataset, and which manufacturer appears most frequently based on the number of cars recorded?\n",
    "2. How does the distribution of body styles vary among the cars in the dataset, and which body style constitutes the largest proportion of the recorded cars?\n",
    "3. \n",
    "What is a correlation between the width of cars and their prices\n",
    "4. \r\n",
    "How does the distribution of fuel types vary among the cars in the datase\n",
    "5. \r\n",
    "\r\n",
    "What is the most frequent city MPG value among the cars in the data\n",
    "6. set?\r\n",
    "What is the most frequent highway MPG value among the cars in the dat\n",
    "7. set?\r\n",
    "How does the price distribution vary among different car manufact\n",
    "8. rers?\r\n",
    "What is a correlation between the horsepower and engine size o\n",
    "9.  cars?\r\n",
    "What proportion of vehicles in the dataset have the engine located at the rear versus th\n",
    "10.  front?\r\n",
    "How engine-size influence price of cars?"
   ]
  },
  {
   "cell_type": "markdown",
   "id": "3928fce7-dd16-431f-b3d1-1351cca95bb9",
   "metadata": {},
   "source": [
    "<font size=\"6\">1.Know Your Data</font>"
   ]
  },
  {
   "cell_type": "markdown",
   "id": "1d03d875-71e9-4d78-b391-9a9cd433864d",
   "metadata": {},
   "source": [
    "<font size=\"4\">Importing Required Libraries<font>"
   ]
  },
  {
   "cell_type": "code",
   "execution_count": 72,
   "id": "1c0da209-6945-4d3a-9efe-b607a7e27cb6",
   "metadata": {},
   "outputs": [],
   "source": [
    "import pandas as pd\n",
    "import numpy as np\n",
    "import seaborn as sns\n",
    "import matplotlib.pyplot as plt\n",
    "import warnings\n",
    "warnings.filterwarnings('ignore')"
   ]
  },
  {
   "cell_type": "markdown",
   "id": "78e1d7b0-51f0-45e0-9c63-96b464b7ade3",
   "metadata": {},
   "source": [
    "Reading and Understanding Data"
   ]
  },
  {
   "cell_type": "code",
   "execution_count": 73,
   "id": "05048a1d-bc11-41ad-9d85-2b2fad3b090a",
   "metadata": {},
   "outputs": [],
   "source": [
    "# reading data\n",
    "df=pd.read_csv('cars.csv')"
   ]
  },
  {
   "cell_type": "code",
   "execution_count": 74,
   "id": "a96bc523-fc29-40d2-8d25-ea43de897a01",
   "metadata": {},
   "outputs": [
    {
     "data": {
      "text/html": [
       "<div>\n",
       "<style scoped>\n",
       "    .dataframe tbody tr th:only-of-type {\n",
       "        vertical-align: middle;\n",
       "    }\n",
       "\n",
       "    .dataframe tbody tr th {\n",
       "        vertical-align: top;\n",
       "    }\n",
       "\n",
       "    .dataframe thead th {\n",
       "        text-align: right;\n",
       "    }\n",
       "</style>\n",
       "<table border=\"1\" class=\"dataframe\">\n",
       "  <thead>\n",
       "    <tr style=\"text-align: right;\">\n",
       "      <th></th>\n",
       "      <th>symboling</th>\n",
       "      <th>normalized-losses</th>\n",
       "      <th>make</th>\n",
       "      <th>fuel-type</th>\n",
       "      <th>body-style</th>\n",
       "      <th>drive-wheels</th>\n",
       "      <th>engine-location</th>\n",
       "      <th>width</th>\n",
       "      <th>height</th>\n",
       "      <th>engine-type</th>\n",
       "      <th>engine-size</th>\n",
       "      <th>horsepower</th>\n",
       "      <th>city-mpg</th>\n",
       "      <th>highway-mpg</th>\n",
       "      <th>price</th>\n",
       "    </tr>\n",
       "  </thead>\n",
       "  <tbody>\n",
       "    <tr>\n",
       "      <th>0</th>\n",
       "      <td>3</td>\n",
       "      <td>?</td>\n",
       "      <td>alfa-romero</td>\n",
       "      <td>gas</td>\n",
       "      <td>convertible</td>\n",
       "      <td>rwd</td>\n",
       "      <td>front</td>\n",
       "      <td>64.1</td>\n",
       "      <td>48.8</td>\n",
       "      <td>dohc</td>\n",
       "      <td>130</td>\n",
       "      <td>111</td>\n",
       "      <td>21</td>\n",
       "      <td>27</td>\n",
       "      <td>13495</td>\n",
       "    </tr>\n",
       "    <tr>\n",
       "      <th>1</th>\n",
       "      <td>3</td>\n",
       "      <td>?</td>\n",
       "      <td>alfa-romero</td>\n",
       "      <td>gas</td>\n",
       "      <td>convertible</td>\n",
       "      <td>rwd</td>\n",
       "      <td>front</td>\n",
       "      <td>64.1</td>\n",
       "      <td>48.8</td>\n",
       "      <td>dohc</td>\n",
       "      <td>130</td>\n",
       "      <td>111</td>\n",
       "      <td>21</td>\n",
       "      <td>27</td>\n",
       "      <td>16500</td>\n",
       "    </tr>\n",
       "    <tr>\n",
       "      <th>2</th>\n",
       "      <td>1</td>\n",
       "      <td>?</td>\n",
       "      <td>alfa-romero</td>\n",
       "      <td>gas</td>\n",
       "      <td>hatchback</td>\n",
       "      <td>rwd</td>\n",
       "      <td>front</td>\n",
       "      <td>65.5</td>\n",
       "      <td>52.4</td>\n",
       "      <td>ohcv</td>\n",
       "      <td>152</td>\n",
       "      <td>154</td>\n",
       "      <td>19</td>\n",
       "      <td>26</td>\n",
       "      <td>16500</td>\n",
       "    </tr>\n",
       "    <tr>\n",
       "      <th>3</th>\n",
       "      <td>2</td>\n",
       "      <td>164</td>\n",
       "      <td>audi</td>\n",
       "      <td>gas</td>\n",
       "      <td>sedan</td>\n",
       "      <td>fwd</td>\n",
       "      <td>front</td>\n",
       "      <td>66.2</td>\n",
       "      <td>54.3</td>\n",
       "      <td>ohc</td>\n",
       "      <td>109</td>\n",
       "      <td>102</td>\n",
       "      <td>24</td>\n",
       "      <td>30</td>\n",
       "      <td>13950</td>\n",
       "    </tr>\n",
       "    <tr>\n",
       "      <th>4</th>\n",
       "      <td>2</td>\n",
       "      <td>164</td>\n",
       "      <td>audi</td>\n",
       "      <td>gas</td>\n",
       "      <td>sedan</td>\n",
       "      <td>4wd</td>\n",
       "      <td>front</td>\n",
       "      <td>66.4</td>\n",
       "      <td>54.3</td>\n",
       "      <td>ohc</td>\n",
       "      <td>136</td>\n",
       "      <td>115</td>\n",
       "      <td>18</td>\n",
       "      <td>22</td>\n",
       "      <td>17450</td>\n",
       "    </tr>\n",
       "    <tr>\n",
       "      <th>5</th>\n",
       "      <td>2</td>\n",
       "      <td>?</td>\n",
       "      <td>audi</td>\n",
       "      <td>gas</td>\n",
       "      <td>sedan</td>\n",
       "      <td>fwd</td>\n",
       "      <td>front</td>\n",
       "      <td>66.3</td>\n",
       "      <td>53.1</td>\n",
       "      <td>ohc</td>\n",
       "      <td>136</td>\n",
       "      <td>110</td>\n",
       "      <td>19</td>\n",
       "      <td>25</td>\n",
       "      <td>15250</td>\n",
       "    </tr>\n",
       "    <tr>\n",
       "      <th>6</th>\n",
       "      <td>1</td>\n",
       "      <td>158</td>\n",
       "      <td>audi</td>\n",
       "      <td>gas</td>\n",
       "      <td>sedan</td>\n",
       "      <td>fwd</td>\n",
       "      <td>front</td>\n",
       "      <td>71.4</td>\n",
       "      <td>55.7</td>\n",
       "      <td>ohc</td>\n",
       "      <td>136</td>\n",
       "      <td>110</td>\n",
       "      <td>19</td>\n",
       "      <td>25</td>\n",
       "      <td>17710</td>\n",
       "    </tr>\n",
       "    <tr>\n",
       "      <th>7</th>\n",
       "      <td>1</td>\n",
       "      <td>?</td>\n",
       "      <td>audi</td>\n",
       "      <td>gas</td>\n",
       "      <td>wagon</td>\n",
       "      <td>fwd</td>\n",
       "      <td>front</td>\n",
       "      <td>71.4</td>\n",
       "      <td>55.7</td>\n",
       "      <td>ohc</td>\n",
       "      <td>136</td>\n",
       "      <td>110</td>\n",
       "      <td>19</td>\n",
       "      <td>25</td>\n",
       "      <td>18920</td>\n",
       "    </tr>\n",
       "    <tr>\n",
       "      <th>8</th>\n",
       "      <td>1</td>\n",
       "      <td>158</td>\n",
       "      <td>audi</td>\n",
       "      <td>gas</td>\n",
       "      <td>sedan</td>\n",
       "      <td>fwd</td>\n",
       "      <td>front</td>\n",
       "      <td>71.4</td>\n",
       "      <td>55.9</td>\n",
       "      <td>ohc</td>\n",
       "      <td>131</td>\n",
       "      <td>140</td>\n",
       "      <td>17</td>\n",
       "      <td>20</td>\n",
       "      <td>23875</td>\n",
       "    </tr>\n",
       "    <tr>\n",
       "      <th>9</th>\n",
       "      <td>0</td>\n",
       "      <td>?</td>\n",
       "      <td>audi</td>\n",
       "      <td>gas</td>\n",
       "      <td>hatchback</td>\n",
       "      <td>4wd</td>\n",
       "      <td>front</td>\n",
       "      <td>67.9</td>\n",
       "      <td>52.0</td>\n",
       "      <td>ohc</td>\n",
       "      <td>131</td>\n",
       "      <td>160</td>\n",
       "      <td>16</td>\n",
       "      <td>22</td>\n",
       "      <td>12000</td>\n",
       "    </tr>\n",
       "    <tr>\n",
       "      <th>10</th>\n",
       "      <td>2</td>\n",
       "      <td>192</td>\n",
       "      <td>bmw</td>\n",
       "      <td>gas</td>\n",
       "      <td>sedan</td>\n",
       "      <td>rwd</td>\n",
       "      <td>front</td>\n",
       "      <td>64.8</td>\n",
       "      <td>54.3</td>\n",
       "      <td>ohc</td>\n",
       "      <td>108</td>\n",
       "      <td>101</td>\n",
       "      <td>23</td>\n",
       "      <td>29</td>\n",
       "      <td>16430</td>\n",
       "    </tr>\n",
       "    <tr>\n",
       "      <th>11</th>\n",
       "      <td>0</td>\n",
       "      <td>192</td>\n",
       "      <td>bmw</td>\n",
       "      <td>gas</td>\n",
       "      <td>sedan</td>\n",
       "      <td>rwd</td>\n",
       "      <td>front</td>\n",
       "      <td>64.8</td>\n",
       "      <td>54.3</td>\n",
       "      <td>ohc</td>\n",
       "      <td>108</td>\n",
       "      <td>101</td>\n",
       "      <td>23</td>\n",
       "      <td>29</td>\n",
       "      <td>16925</td>\n",
       "    </tr>\n",
       "    <tr>\n",
       "      <th>12</th>\n",
       "      <td>0</td>\n",
       "      <td>188</td>\n",
       "      <td>bmw</td>\n",
       "      <td>gas</td>\n",
       "      <td>sedan</td>\n",
       "      <td>rwd</td>\n",
       "      <td>front</td>\n",
       "      <td>64.8</td>\n",
       "      <td>54.3</td>\n",
       "      <td>ohc</td>\n",
       "      <td>164</td>\n",
       "      <td>121</td>\n",
       "      <td>21</td>\n",
       "      <td>28</td>\n",
       "      <td>20970</td>\n",
       "    </tr>\n",
       "    <tr>\n",
       "      <th>13</th>\n",
       "      <td>0</td>\n",
       "      <td>188</td>\n",
       "      <td>bmw</td>\n",
       "      <td>gas</td>\n",
       "      <td>sedan</td>\n",
       "      <td>rwd</td>\n",
       "      <td>front</td>\n",
       "      <td>64.8</td>\n",
       "      <td>54.3</td>\n",
       "      <td>ohc</td>\n",
       "      <td>164</td>\n",
       "      <td>121</td>\n",
       "      <td>21</td>\n",
       "      <td>28</td>\n",
       "      <td>21105</td>\n",
       "    </tr>\n",
       "    <tr>\n",
       "      <th>14</th>\n",
       "      <td>1</td>\n",
       "      <td>?</td>\n",
       "      <td>bmw</td>\n",
       "      <td>gas</td>\n",
       "      <td>sedan</td>\n",
       "      <td>rwd</td>\n",
       "      <td>front</td>\n",
       "      <td>66.9</td>\n",
       "      <td>55.7</td>\n",
       "      <td>ohc</td>\n",
       "      <td>164</td>\n",
       "      <td>121</td>\n",
       "      <td>20</td>\n",
       "      <td>25</td>\n",
       "      <td>24565</td>\n",
       "    </tr>\n",
       "  </tbody>\n",
       "</table>\n",
       "</div>"
      ],
      "text/plain": [
       "    symboling normalized-losses         make fuel-type   body-style  \\\n",
       "0           3                 ?  alfa-romero       gas  convertible   \n",
       "1           3                 ?  alfa-romero       gas  convertible   \n",
       "2           1                 ?  alfa-romero       gas    hatchback   \n",
       "3           2               164         audi       gas        sedan   \n",
       "4           2               164         audi       gas        sedan   \n",
       "5           2                 ?         audi       gas        sedan   \n",
       "6           1               158         audi       gas        sedan   \n",
       "7           1                 ?         audi       gas        wagon   \n",
       "8           1               158         audi       gas        sedan   \n",
       "9           0                 ?         audi       gas    hatchback   \n",
       "10          2               192          bmw       gas        sedan   \n",
       "11          0               192          bmw       gas        sedan   \n",
       "12          0               188          bmw       gas        sedan   \n",
       "13          0               188          bmw       gas        sedan   \n",
       "14          1                 ?          bmw       gas        sedan   \n",
       "\n",
       "   drive-wheels engine-location  width  height engine-type  engine-size  \\\n",
       "0           rwd           front   64.1    48.8        dohc          130   \n",
       "1           rwd           front   64.1    48.8        dohc          130   \n",
       "2           rwd           front   65.5    52.4        ohcv          152   \n",
       "3           fwd           front   66.2    54.3         ohc          109   \n",
       "4           4wd           front   66.4    54.3         ohc          136   \n",
       "5           fwd           front   66.3    53.1         ohc          136   \n",
       "6           fwd           front   71.4    55.7         ohc          136   \n",
       "7           fwd           front   71.4    55.7         ohc          136   \n",
       "8           fwd           front   71.4    55.9         ohc          131   \n",
       "9           4wd           front   67.9    52.0         ohc          131   \n",
       "10          rwd           front   64.8    54.3         ohc          108   \n",
       "11          rwd           front   64.8    54.3         ohc          108   \n",
       "12          rwd           front   64.8    54.3         ohc          164   \n",
       "13          rwd           front   64.8    54.3         ohc          164   \n",
       "14          rwd           front   66.9    55.7         ohc          164   \n",
       "\n",
       "   horsepower  city-mpg  highway-mpg  price  \n",
       "0         111        21           27  13495  \n",
       "1         111        21           27  16500  \n",
       "2         154        19           26  16500  \n",
       "3         102        24           30  13950  \n",
       "4         115        18           22  17450  \n",
       "5         110        19           25  15250  \n",
       "6         110        19           25  17710  \n",
       "7         110        19           25  18920  \n",
       "8         140        17           20  23875  \n",
       "9         160        16           22  12000  \n",
       "10        101        23           29  16430  \n",
       "11        101        23           29  16925  \n",
       "12        121        21           28  20970  \n",
       "13        121        21           28  21105  \n",
       "14        121        20           25  24565  "
      ]
     },
     "execution_count": 74,
     "metadata": {},
     "output_type": "execute_result"
    }
   ],
   "source": [
    "# looking first 15 rows\n",
    "df.head(15)"
   ]
  },
  {
   "cell_type": "code",
   "execution_count": 75,
   "id": "5cb0fcc0-3f4c-44c8-8d8c-5207900409c2",
   "metadata": {},
   "outputs": [
    {
     "data": {
      "text/html": [
       "<div>\n",
       "<style scoped>\n",
       "    .dataframe tbody tr th:only-of-type {\n",
       "        vertical-align: middle;\n",
       "    }\n",
       "\n",
       "    .dataframe tbody tr th {\n",
       "        vertical-align: top;\n",
       "    }\n",
       "\n",
       "    .dataframe thead th {\n",
       "        text-align: right;\n",
       "    }\n",
       "</style>\n",
       "<table border=\"1\" class=\"dataframe\">\n",
       "  <thead>\n",
       "    <tr style=\"text-align: right;\">\n",
       "      <th></th>\n",
       "      <th>symboling</th>\n",
       "      <th>normalized-losses</th>\n",
       "      <th>make</th>\n",
       "      <th>fuel-type</th>\n",
       "      <th>body-style</th>\n",
       "      <th>drive-wheels</th>\n",
       "      <th>engine-location</th>\n",
       "      <th>width</th>\n",
       "      <th>height</th>\n",
       "      <th>engine-type</th>\n",
       "      <th>engine-size</th>\n",
       "      <th>horsepower</th>\n",
       "      <th>city-mpg</th>\n",
       "      <th>highway-mpg</th>\n",
       "      <th>price</th>\n",
       "    </tr>\n",
       "  </thead>\n",
       "  <tbody>\n",
       "    <tr>\n",
       "      <th>190</th>\n",
       "      <td>3</td>\n",
       "      <td>256</td>\n",
       "      <td>volkswagen</td>\n",
       "      <td>gas</td>\n",
       "      <td>hatchback</td>\n",
       "      <td>fwd</td>\n",
       "      <td>front</td>\n",
       "      <td>64.0</td>\n",
       "      <td>51.4</td>\n",
       "      <td>ohc</td>\n",
       "      <td>109</td>\n",
       "      <td>90</td>\n",
       "      <td>24</td>\n",
       "      <td>29</td>\n",
       "      <td>9980</td>\n",
       "    </tr>\n",
       "    <tr>\n",
       "      <th>191</th>\n",
       "      <td>0</td>\n",
       "      <td>?</td>\n",
       "      <td>volkswagen</td>\n",
       "      <td>gas</td>\n",
       "      <td>sedan</td>\n",
       "      <td>fwd</td>\n",
       "      <td>front</td>\n",
       "      <td>66.9</td>\n",
       "      <td>55.1</td>\n",
       "      <td>ohc</td>\n",
       "      <td>136</td>\n",
       "      <td>110</td>\n",
       "      <td>19</td>\n",
       "      <td>24</td>\n",
       "      <td>13295</td>\n",
       "    </tr>\n",
       "    <tr>\n",
       "      <th>192</th>\n",
       "      <td>0</td>\n",
       "      <td>?</td>\n",
       "      <td>volkswagen</td>\n",
       "      <td>diesel</td>\n",
       "      <td>sedan</td>\n",
       "      <td>fwd</td>\n",
       "      <td>front</td>\n",
       "      <td>66.9</td>\n",
       "      <td>55.1</td>\n",
       "      <td>ohc</td>\n",
       "      <td>97</td>\n",
       "      <td>68</td>\n",
       "      <td>33</td>\n",
       "      <td>38</td>\n",
       "      <td>13845</td>\n",
       "    </tr>\n",
       "    <tr>\n",
       "      <th>193</th>\n",
       "      <td>0</td>\n",
       "      <td>?</td>\n",
       "      <td>volkswagen</td>\n",
       "      <td>gas</td>\n",
       "      <td>wagon</td>\n",
       "      <td>fwd</td>\n",
       "      <td>front</td>\n",
       "      <td>66.9</td>\n",
       "      <td>55.1</td>\n",
       "      <td>ohc</td>\n",
       "      <td>109</td>\n",
       "      <td>88</td>\n",
       "      <td>25</td>\n",
       "      <td>31</td>\n",
       "      <td>12290</td>\n",
       "    </tr>\n",
       "    <tr>\n",
       "      <th>194</th>\n",
       "      <td>-2</td>\n",
       "      <td>103</td>\n",
       "      <td>volvo</td>\n",
       "      <td>gas</td>\n",
       "      <td>sedan</td>\n",
       "      <td>rwd</td>\n",
       "      <td>front</td>\n",
       "      <td>67.2</td>\n",
       "      <td>56.2</td>\n",
       "      <td>ohc</td>\n",
       "      <td>141</td>\n",
       "      <td>114</td>\n",
       "      <td>23</td>\n",
       "      <td>28</td>\n",
       "      <td>12940</td>\n",
       "    </tr>\n",
       "    <tr>\n",
       "      <th>195</th>\n",
       "      <td>-1</td>\n",
       "      <td>74</td>\n",
       "      <td>volvo</td>\n",
       "      <td>gas</td>\n",
       "      <td>wagon</td>\n",
       "      <td>rwd</td>\n",
       "      <td>front</td>\n",
       "      <td>67.2</td>\n",
       "      <td>57.5</td>\n",
       "      <td>ohc</td>\n",
       "      <td>141</td>\n",
       "      <td>114</td>\n",
       "      <td>23</td>\n",
       "      <td>28</td>\n",
       "      <td>13415</td>\n",
       "    </tr>\n",
       "    <tr>\n",
       "      <th>196</th>\n",
       "      <td>-2</td>\n",
       "      <td>103</td>\n",
       "      <td>volvo</td>\n",
       "      <td>gas</td>\n",
       "      <td>sedan</td>\n",
       "      <td>rwd</td>\n",
       "      <td>front</td>\n",
       "      <td>67.2</td>\n",
       "      <td>56.2</td>\n",
       "      <td>ohc</td>\n",
       "      <td>141</td>\n",
       "      <td>114</td>\n",
       "      <td>24</td>\n",
       "      <td>28</td>\n",
       "      <td>15985</td>\n",
       "    </tr>\n",
       "    <tr>\n",
       "      <th>197</th>\n",
       "      <td>-1</td>\n",
       "      <td>74</td>\n",
       "      <td>volvo</td>\n",
       "      <td>gas</td>\n",
       "      <td>wagon</td>\n",
       "      <td>rwd</td>\n",
       "      <td>front</td>\n",
       "      <td>67.2</td>\n",
       "      <td>57.5</td>\n",
       "      <td>ohc</td>\n",
       "      <td>141</td>\n",
       "      <td>114</td>\n",
       "      <td>24</td>\n",
       "      <td>28</td>\n",
       "      <td>16515</td>\n",
       "    </tr>\n",
       "    <tr>\n",
       "      <th>198</th>\n",
       "      <td>-2</td>\n",
       "      <td>103</td>\n",
       "      <td>volvo</td>\n",
       "      <td>gas</td>\n",
       "      <td>sedan</td>\n",
       "      <td>rwd</td>\n",
       "      <td>front</td>\n",
       "      <td>67.2</td>\n",
       "      <td>56.2</td>\n",
       "      <td>ohc</td>\n",
       "      <td>130</td>\n",
       "      <td>162</td>\n",
       "      <td>17</td>\n",
       "      <td>22</td>\n",
       "      <td>18420</td>\n",
       "    </tr>\n",
       "    <tr>\n",
       "      <th>199</th>\n",
       "      <td>-1</td>\n",
       "      <td>74</td>\n",
       "      <td>volvo</td>\n",
       "      <td>gas</td>\n",
       "      <td>wagon</td>\n",
       "      <td>rwd</td>\n",
       "      <td>front</td>\n",
       "      <td>67.2</td>\n",
       "      <td>57.5</td>\n",
       "      <td>ohc</td>\n",
       "      <td>130</td>\n",
       "      <td>162</td>\n",
       "      <td>17</td>\n",
       "      <td>22</td>\n",
       "      <td>18950</td>\n",
       "    </tr>\n",
       "    <tr>\n",
       "      <th>200</th>\n",
       "      <td>-1</td>\n",
       "      <td>95</td>\n",
       "      <td>volvo</td>\n",
       "      <td>gas</td>\n",
       "      <td>sedan</td>\n",
       "      <td>rwd</td>\n",
       "      <td>front</td>\n",
       "      <td>68.9</td>\n",
       "      <td>55.5</td>\n",
       "      <td>ohc</td>\n",
       "      <td>141</td>\n",
       "      <td>114</td>\n",
       "      <td>23</td>\n",
       "      <td>28</td>\n",
       "      <td>16845</td>\n",
       "    </tr>\n",
       "    <tr>\n",
       "      <th>201</th>\n",
       "      <td>-1</td>\n",
       "      <td>95</td>\n",
       "      <td>volvo</td>\n",
       "      <td>gas</td>\n",
       "      <td>sedan</td>\n",
       "      <td>rwd</td>\n",
       "      <td>front</td>\n",
       "      <td>68.8</td>\n",
       "      <td>55.5</td>\n",
       "      <td>ohc</td>\n",
       "      <td>141</td>\n",
       "      <td>160</td>\n",
       "      <td>19</td>\n",
       "      <td>25</td>\n",
       "      <td>19045</td>\n",
       "    </tr>\n",
       "    <tr>\n",
       "      <th>202</th>\n",
       "      <td>-1</td>\n",
       "      <td>95</td>\n",
       "      <td>volvo</td>\n",
       "      <td>gas</td>\n",
       "      <td>sedan</td>\n",
       "      <td>rwd</td>\n",
       "      <td>front</td>\n",
       "      <td>68.9</td>\n",
       "      <td>55.5</td>\n",
       "      <td>ohcv</td>\n",
       "      <td>173</td>\n",
       "      <td>134</td>\n",
       "      <td>18</td>\n",
       "      <td>23</td>\n",
       "      <td>21485</td>\n",
       "    </tr>\n",
       "    <tr>\n",
       "      <th>203</th>\n",
       "      <td>-1</td>\n",
       "      <td>95</td>\n",
       "      <td>volvo</td>\n",
       "      <td>diesel</td>\n",
       "      <td>sedan</td>\n",
       "      <td>rwd</td>\n",
       "      <td>front</td>\n",
       "      <td>68.9</td>\n",
       "      <td>55.5</td>\n",
       "      <td>ohc</td>\n",
       "      <td>145</td>\n",
       "      <td>106</td>\n",
       "      <td>26</td>\n",
       "      <td>27</td>\n",
       "      <td>22470</td>\n",
       "    </tr>\n",
       "    <tr>\n",
       "      <th>204</th>\n",
       "      <td>-1</td>\n",
       "      <td>95</td>\n",
       "      <td>volvo</td>\n",
       "      <td>gas</td>\n",
       "      <td>sedan</td>\n",
       "      <td>rwd</td>\n",
       "      <td>front</td>\n",
       "      <td>68.9</td>\n",
       "      <td>55.5</td>\n",
       "      <td>ohc</td>\n",
       "      <td>141</td>\n",
       "      <td>114</td>\n",
       "      <td>19</td>\n",
       "      <td>25</td>\n",
       "      <td>22625</td>\n",
       "    </tr>\n",
       "  </tbody>\n",
       "</table>\n",
       "</div>"
      ],
      "text/plain": [
       "     symboling normalized-losses        make fuel-type body-style  \\\n",
       "190          3               256  volkswagen       gas  hatchback   \n",
       "191          0                 ?  volkswagen       gas      sedan   \n",
       "192          0                 ?  volkswagen    diesel      sedan   \n",
       "193          0                 ?  volkswagen       gas      wagon   \n",
       "194         -2               103       volvo       gas      sedan   \n",
       "195         -1                74       volvo       gas      wagon   \n",
       "196         -2               103       volvo       gas      sedan   \n",
       "197         -1                74       volvo       gas      wagon   \n",
       "198         -2               103       volvo       gas      sedan   \n",
       "199         -1                74       volvo       gas      wagon   \n",
       "200         -1                95       volvo       gas      sedan   \n",
       "201         -1                95       volvo       gas      sedan   \n",
       "202         -1                95       volvo       gas      sedan   \n",
       "203         -1                95       volvo    diesel      sedan   \n",
       "204         -1                95       volvo       gas      sedan   \n",
       "\n",
       "    drive-wheels engine-location  width  height engine-type  engine-size  \\\n",
       "190          fwd           front   64.0    51.4         ohc          109   \n",
       "191          fwd           front   66.9    55.1         ohc          136   \n",
       "192          fwd           front   66.9    55.1         ohc           97   \n",
       "193          fwd           front   66.9    55.1         ohc          109   \n",
       "194          rwd           front   67.2    56.2         ohc          141   \n",
       "195          rwd           front   67.2    57.5         ohc          141   \n",
       "196          rwd           front   67.2    56.2         ohc          141   \n",
       "197          rwd           front   67.2    57.5         ohc          141   \n",
       "198          rwd           front   67.2    56.2         ohc          130   \n",
       "199          rwd           front   67.2    57.5         ohc          130   \n",
       "200          rwd           front   68.9    55.5         ohc          141   \n",
       "201          rwd           front   68.8    55.5         ohc          141   \n",
       "202          rwd           front   68.9    55.5        ohcv          173   \n",
       "203          rwd           front   68.9    55.5         ohc          145   \n",
       "204          rwd           front   68.9    55.5         ohc          141   \n",
       "\n",
       "    horsepower  city-mpg  highway-mpg  price  \n",
       "190         90        24           29   9980  \n",
       "191        110        19           24  13295  \n",
       "192         68        33           38  13845  \n",
       "193         88        25           31  12290  \n",
       "194        114        23           28  12940  \n",
       "195        114        23           28  13415  \n",
       "196        114        24           28  15985  \n",
       "197        114        24           28  16515  \n",
       "198        162        17           22  18420  \n",
       "199        162        17           22  18950  \n",
       "200        114        23           28  16845  \n",
       "201        160        19           25  19045  \n",
       "202        134        18           23  21485  \n",
       "203        106        26           27  22470  \n",
       "204        114        19           25  22625  "
      ]
     },
     "execution_count": 75,
     "metadata": {},
     "output_type": "execute_result"
    }
   ],
   "source": [
    "# looking last 15 rows\n",
    "df.tail(15)"
   ]
  },
  {
   "cell_type": "code",
   "execution_count": 76,
   "id": "d8e202ac-2705-42e2-9326-c994cea53816",
   "metadata": {},
   "outputs": [
    {
     "data": {
      "text/plain": [
       "0"
      ]
     },
     "execution_count": 76,
     "metadata": {},
     "output_type": "execute_result"
    }
   ],
   "source": [
    "# checking duplicate rows\n",
    "df.duplicated().sum()"
   ]
  },
  {
   "cell_type": "code",
   "execution_count": 77,
   "id": "925a2c2b-5544-4259-8913-515f76180804",
   "metadata": {},
   "outputs": [
    {
     "data": {
      "text/plain": [
       "symboling            0\n",
       "normalized-losses    0\n",
       "make                 0\n",
       "fuel-type            0\n",
       "body-style           0\n",
       "drive-wheels         0\n",
       "engine-location      0\n",
       "width                0\n",
       "height               0\n",
       "engine-type          0\n",
       "engine-size          0\n",
       "horsepower           0\n",
       "city-mpg             0\n",
       "highway-mpg          0\n",
       "price                0\n",
       "dtype: int64"
      ]
     },
     "execution_count": 77,
     "metadata": {},
     "output_type": "execute_result"
    }
   ],
   "source": [
    "# cheking null values\n",
    "df.isnull().sum()"
   ]
  },
  {
   "cell_type": "code",
   "execution_count": 78,
   "id": "2289f6b6-496e-419b-955e-8b51ce1ac419",
   "metadata": {},
   "outputs": [
    {
     "name": "stdout",
     "output_type": "stream",
     "text": [
      "<class 'pandas.core.frame.DataFrame'>\n",
      "RangeIndex: 205 entries, 0 to 204\n",
      "Data columns (total 15 columns):\n",
      " #   Column             Non-Null Count  Dtype  \n",
      "---  ------             --------------  -----  \n",
      " 0   symboling          205 non-null    int64  \n",
      " 1   normalized-losses  205 non-null    object \n",
      " 2   make               205 non-null    object \n",
      " 3   fuel-type          205 non-null    object \n",
      " 4   body-style         205 non-null    object \n",
      " 5   drive-wheels       205 non-null    object \n",
      " 6   engine-location    205 non-null    object \n",
      " 7   width              205 non-null    float64\n",
      " 8   height             205 non-null    float64\n",
      " 9   engine-type        205 non-null    object \n",
      " 10  engine-size        205 non-null    int64  \n",
      " 11  horsepower         205 non-null    object \n",
      " 12  city-mpg           205 non-null    int64  \n",
      " 13  highway-mpg        205 non-null    int64  \n",
      " 14  price              205 non-null    int64  \n",
      "dtypes: float64(2), int64(5), object(8)\n",
      "memory usage: 24.2+ KB\n"
     ]
    }
   ],
   "source": [
    "# cheking more information about dataset\n",
    "df.info()"
   ]
  },
  {
   "cell_type": "code",
   "execution_count": 79,
   "id": "3e85e24c-c462-45ad-9ffb-1180ea108d92",
   "metadata": {},
   "outputs": [
    {
     "data": {
      "text/html": [
       "<div>\n",
       "<style scoped>\n",
       "    .dataframe tbody tr th:only-of-type {\n",
       "        vertical-align: middle;\n",
       "    }\n",
       "\n",
       "    .dataframe tbody tr th {\n",
       "        vertical-align: top;\n",
       "    }\n",
       "\n",
       "    .dataframe thead th {\n",
       "        text-align: right;\n",
       "    }\n",
       "</style>\n",
       "<table border=\"1\" class=\"dataframe\">\n",
       "  <thead>\n",
       "    <tr style=\"text-align: right;\">\n",
       "      <th></th>\n",
       "      <th>symboling</th>\n",
       "      <th>width</th>\n",
       "      <th>height</th>\n",
       "      <th>engine-size</th>\n",
       "      <th>city-mpg</th>\n",
       "      <th>highway-mpg</th>\n",
       "      <th>price</th>\n",
       "    </tr>\n",
       "  </thead>\n",
       "  <tbody>\n",
       "    <tr>\n",
       "      <th>count</th>\n",
       "      <td>205.000000</td>\n",
       "      <td>205.000000</td>\n",
       "      <td>205.000000</td>\n",
       "      <td>205.000000</td>\n",
       "      <td>205.000000</td>\n",
       "      <td>205.000000</td>\n",
       "      <td>205.000000</td>\n",
       "    </tr>\n",
       "    <tr>\n",
       "      <th>mean</th>\n",
       "      <td>0.834146</td>\n",
       "      <td>65.907805</td>\n",
       "      <td>53.724878</td>\n",
       "      <td>126.907317</td>\n",
       "      <td>25.219512</td>\n",
       "      <td>30.751220</td>\n",
       "      <td>13227.478049</td>\n",
       "    </tr>\n",
       "    <tr>\n",
       "      <th>std</th>\n",
       "      <td>1.245307</td>\n",
       "      <td>2.145204</td>\n",
       "      <td>2.443522</td>\n",
       "      <td>41.642693</td>\n",
       "      <td>6.542142</td>\n",
       "      <td>6.886443</td>\n",
       "      <td>7902.651615</td>\n",
       "    </tr>\n",
       "    <tr>\n",
       "      <th>min</th>\n",
       "      <td>-2.000000</td>\n",
       "      <td>60.300000</td>\n",
       "      <td>47.800000</td>\n",
       "      <td>61.000000</td>\n",
       "      <td>13.000000</td>\n",
       "      <td>16.000000</td>\n",
       "      <td>5118.000000</td>\n",
       "    </tr>\n",
       "    <tr>\n",
       "      <th>25%</th>\n",
       "      <td>0.000000</td>\n",
       "      <td>64.100000</td>\n",
       "      <td>52.000000</td>\n",
       "      <td>97.000000</td>\n",
       "      <td>19.000000</td>\n",
       "      <td>25.000000</td>\n",
       "      <td>7788.000000</td>\n",
       "    </tr>\n",
       "    <tr>\n",
       "      <th>50%</th>\n",
       "      <td>1.000000</td>\n",
       "      <td>65.500000</td>\n",
       "      <td>54.100000</td>\n",
       "      <td>120.000000</td>\n",
       "      <td>24.000000</td>\n",
       "      <td>30.000000</td>\n",
       "      <td>10345.000000</td>\n",
       "    </tr>\n",
       "    <tr>\n",
       "      <th>75%</th>\n",
       "      <td>2.000000</td>\n",
       "      <td>66.900000</td>\n",
       "      <td>55.500000</td>\n",
       "      <td>141.000000</td>\n",
       "      <td>30.000000</td>\n",
       "      <td>34.000000</td>\n",
       "      <td>16500.000000</td>\n",
       "    </tr>\n",
       "    <tr>\n",
       "      <th>max</th>\n",
       "      <td>3.000000</td>\n",
       "      <td>72.300000</td>\n",
       "      <td>59.800000</td>\n",
       "      <td>326.000000</td>\n",
       "      <td>49.000000</td>\n",
       "      <td>54.000000</td>\n",
       "      <td>45400.000000</td>\n",
       "    </tr>\n",
       "  </tbody>\n",
       "</table>\n",
       "</div>"
      ],
      "text/plain": [
       "        symboling       width      height  engine-size    city-mpg  \\\n",
       "count  205.000000  205.000000  205.000000   205.000000  205.000000   \n",
       "mean     0.834146   65.907805   53.724878   126.907317   25.219512   \n",
       "std      1.245307    2.145204    2.443522    41.642693    6.542142   \n",
       "min     -2.000000   60.300000   47.800000    61.000000   13.000000   \n",
       "25%      0.000000   64.100000   52.000000    97.000000   19.000000   \n",
       "50%      1.000000   65.500000   54.100000   120.000000   24.000000   \n",
       "75%      2.000000   66.900000   55.500000   141.000000   30.000000   \n",
       "max      3.000000   72.300000   59.800000   326.000000   49.000000   \n",
       "\n",
       "       highway-mpg         price  \n",
       "count   205.000000    205.000000  \n",
       "mean     30.751220  13227.478049  \n",
       "std       6.886443   7902.651615  \n",
       "min      16.000000   5118.000000  \n",
       "25%      25.000000   7788.000000  \n",
       "50%      30.000000  10345.000000  \n",
       "75%      34.000000  16500.000000  \n",
       "max      54.000000  45400.000000  "
      ]
     },
     "execution_count": 79,
     "metadata": {},
     "output_type": "execute_result"
    }
   ],
   "source": [
    "#descritive information about datasets\n",
    "df.describe()"
   ]
  },
  {
   "cell_type": "code",
   "execution_count": 80,
   "id": "951016f9-e625-4118-9664-ddffde56dc32",
   "metadata": {},
   "outputs": [
    {
     "data": {
      "text/plain": [
       "3075"
      ]
     },
     "execution_count": 80,
     "metadata": {},
     "output_type": "execute_result"
    }
   ],
   "source": [
    "# it returns total value or size of datset\n",
    "df.size "
   ]
  },
  {
   "cell_type": "code",
   "execution_count": 81,
   "id": "15e93965-ba99-45d1-a210-1187c5e2461c",
   "metadata": {},
   "outputs": [
    {
     "data": {
      "text/plain": [
       "array(['?', '164', '158', '192', '188', '121', '98', '81', '118', '148',\n",
       "       '110', '145', '137', '101', '78', '106', '85', '107', '104', '113',\n",
       "       '150', '129', '115', '93', '142', '161', '153', '125', '128',\n",
       "       '122', '103', '168', '108', '194', '231', '119', '154', '74',\n",
       "       '186', '83', '102', '89', '87', '77', '91', '134', '65', '197',\n",
       "       '90', '94', '256', '95'], dtype=object)"
      ]
     },
     "execution_count": 81,
     "metadata": {},
     "output_type": "execute_result"
    }
   ],
   "source": [
    "#finding unique values of normalized-losses  column\n",
    "df['normalized-losses'].unique()"
   ]
  },
  {
   "cell_type": "code",
   "execution_count": 82,
   "id": "8c788459-28eb-418c-bb25-674ba09602be",
   "metadata": {},
   "outputs": [
    {
     "data": {
      "text/plain": [
       "array(['111', '154', '102', '115', '110', '140', '160', '101', '121',\n",
       "       '182', '48', '70', '68', '88', '145', '58', '76', '60', '86',\n",
       "       '100', '78', '90', '176', '262', '135', '84', '64', '120', '72',\n",
       "       '123', '155', '184', '175', '116', '69', '55', '97', '152', '200',\n",
       "       '95', '142', '143', '207', '288', '?', '73', '82', '94', '62',\n",
       "       '56', '112', '92', '161', '156', '52', '85', '114', '162', '134',\n",
       "       '106'], dtype=object)"
      ]
     },
     "execution_count": 82,
     "metadata": {},
     "output_type": "execute_result"
    }
   ],
   "source": [
    "#finding unique values of horsepower column\n",
    "df['horsepower'].unique()"
   ]
  },
  {
   "cell_type": "code",
   "execution_count": 83,
   "id": "2354ed10-b3fd-4eb5-b674-da5663060a01",
   "metadata": {},
   "outputs": [
    {
     "data": {
      "text/plain": [
       "horsepower\n",
       "68     19\n",
       "70     11\n",
       "69     10\n",
       "116     9\n",
       "110     8\n",
       "95      7\n",
       "88      6\n",
       "62      6\n",
       "101     6\n",
       "160     6\n",
       "114     6\n",
       "84      5\n",
       "97      5\n",
       "102     5\n",
       "145     5\n",
       "82      5\n",
       "76      5\n",
       "111     4\n",
       "92      4\n",
       "123     4\n",
       "86      4\n",
       "90      3\n",
       "73      3\n",
       "85      3\n",
       "207     3\n",
       "182     3\n",
       "121     3\n",
       "152     3\n",
       "112     2\n",
       "56      2\n",
       "161     2\n",
       "156     2\n",
       "94      2\n",
       "52      2\n",
       "?       2\n",
       "162     2\n",
       "155     2\n",
       "184     2\n",
       "100     2\n",
       "176     2\n",
       "55      1\n",
       "262     1\n",
       "134     1\n",
       "115     1\n",
       "140     1\n",
       "48      1\n",
       "58      1\n",
       "60      1\n",
       "78      1\n",
       "135     1\n",
       "200     1\n",
       "64      1\n",
       "120     1\n",
       "72      1\n",
       "154     1\n",
       "288     1\n",
       "143     1\n",
       "142     1\n",
       "175     1\n",
       "106     1\n",
       "Name: count, dtype: int64"
      ]
     },
     "execution_count": 83,
     "metadata": {},
     "output_type": "execute_result"
    }
   ],
   "source": [
    "#finding counts of values of horsepower column\n",
    "df['horsepower'].value_counts()"
   ]
  },
  {
   "cell_type": "code",
   "execution_count": 84,
   "id": "b2df6e8d-2d66-4604-90c2-d386e78ce922",
   "metadata": {},
   "outputs": [
    {
     "data": {
      "text/plain": [
       "normalized-losses\n",
       "?      41\n",
       "161    11\n",
       "91      8\n",
       "150     7\n",
       "134     6\n",
       "128     6\n",
       "104     6\n",
       "85      5\n",
       "94      5\n",
       "65      5\n",
       "102     5\n",
       "74      5\n",
       "168     5\n",
       "103     5\n",
       "95      5\n",
       "106     4\n",
       "93      4\n",
       "118     4\n",
       "148     4\n",
       "122     4\n",
       "83      3\n",
       "125     3\n",
       "154     3\n",
       "115     3\n",
       "137     3\n",
       "101     3\n",
       "119     2\n",
       "87      2\n",
       "89      2\n",
       "192     2\n",
       "197     2\n",
       "158     2\n",
       "81      2\n",
       "188     2\n",
       "194     2\n",
       "153     2\n",
       "129     2\n",
       "108     2\n",
       "110     2\n",
       "164     2\n",
       "145     2\n",
       "113     2\n",
       "256     1\n",
       "107     1\n",
       "90      1\n",
       "231     1\n",
       "142     1\n",
       "121     1\n",
       "78      1\n",
       "98      1\n",
       "186     1\n",
       "77      1\n",
       "Name: count, dtype: int64"
      ]
     },
     "execution_count": 84,
     "metadata": {},
     "output_type": "execute_result"
    }
   ],
   "source": [
    "#finding counts of values of normalized-lossescolumn\n",
    "df['normalized-losses'].value_counts()"
   ]
  },
  {
   "cell_type": "markdown",
   "id": "d90505d0-4075-43c4-a8ff-36c0a9c96bd2",
   "metadata": {},
   "source": [
    "<font size=\"6\">2.Data Wrangling and Data Manipulation</font>"
   ]
  },
  {
   "cell_type": "code",
   "execution_count": 85,
   "id": "11d0e06f-3d42-454f-bcf4-4301a7a47a35",
   "metadata": {},
   "outputs": [
    {
     "data": {
      "text/plain": [
       "\"\\nAs we observe insignificant value `?` in 'horsepower' and 'normalized-losses', So we need\\nto replace it with mean value of column.\\n\""
      ]
     },
     "execution_count": 85,
     "metadata": {},
     "output_type": "execute_result"
    }
   ],
   "source": [
    "'''\n",
    "As we observe insignificant value `?` in 'horsepower' and 'normalized-losses', So we need\n",
    "to replace it with mean value of column.\n",
    "'''"
   ]
  },
  {
   "cell_type": "code",
   "execution_count": 86,
   "id": "eb283360-8fae-4d61-b002-37860d711bfc",
   "metadata": {},
   "outputs": [],
   "source": [
    "#Replacing '?' with np.nan\n",
    "df['horsepower'].replace('?',np.nan,inplace=True)\n",
    "df['normalized-losses'].replace('?',np.nan,inplace=True)"
   ]
  },
  {
   "cell_type": "code",
   "execution_count": 87,
   "id": "3fa08a53-0bde-40e6-97d0-9c51839a9f79",
   "metadata": {},
   "outputs": [],
   "source": [
    "#Identifying null values in columns after replacing"
   ]
  },
  {
   "cell_type": "code",
   "execution_count": 88,
   "id": "b6b7899d-e3ab-46a8-bb4e-353c65eafb25",
   "metadata": {},
   "outputs": [
    {
     "data": {
      "text/plain": [
       "41"
      ]
     },
     "execution_count": 88,
     "metadata": {},
     "output_type": "execute_result"
    }
   ],
   "source": [
    "df['normalized-losses'].isnull().sum()"
   ]
  },
  {
   "cell_type": "code",
   "execution_count": 89,
   "id": "e9dbb86f-593b-427f-950c-cc43431a8e6c",
   "metadata": {},
   "outputs": [
    {
     "data": {
      "text/plain": [
       "2"
      ]
     },
     "execution_count": 89,
     "metadata": {},
     "output_type": "execute_result"
    }
   ],
   "source": [
    "df['horsepower'].isnull().sum()"
   ]
  },
  {
   "cell_type": "code",
   "execution_count": 90,
   "id": "5c3478cb-e29f-4b39-98a1-8b03ce6f23dc",
   "metadata": {},
   "outputs": [],
   "source": [
    "#changing data type of columns\n",
    "df['horsepower']=df['horsepower'].astype(float)\n",
    "df['normalized-losses']=df['normalized-losses'].astype(float)"
   ]
  },
  {
   "cell_type": "code",
   "execution_count": 91,
   "id": "d1e056a8-cb35-4472-8237-a58ed49ead34",
   "metadata": {},
   "outputs": [],
   "source": [
    "# cheking more information about dataset after changing data type of columns"
   ]
  },
  {
   "cell_type": "code",
   "execution_count": 92,
   "id": "e0169072-41f7-464d-a7b8-cf6ffe9235ed",
   "metadata": {},
   "outputs": [
    {
     "name": "stdout",
     "output_type": "stream",
     "text": [
      "<class 'pandas.core.frame.DataFrame'>\n",
      "RangeIndex: 205 entries, 0 to 204\n",
      "Data columns (total 15 columns):\n",
      " #   Column             Non-Null Count  Dtype  \n",
      "---  ------             --------------  -----  \n",
      " 0   symboling          205 non-null    int64  \n",
      " 1   normalized-losses  164 non-null    float64\n",
      " 2   make               205 non-null    object \n",
      " 3   fuel-type          205 non-null    object \n",
      " 4   body-style         205 non-null    object \n",
      " 5   drive-wheels       205 non-null    object \n",
      " 6   engine-location    205 non-null    object \n",
      " 7   width              205 non-null    float64\n",
      " 8   height             205 non-null    float64\n",
      " 9   engine-type        205 non-null    object \n",
      " 10  engine-size        205 non-null    int64  \n",
      " 11  horsepower         203 non-null    float64\n",
      " 12  city-mpg           205 non-null    int64  \n",
      " 13  highway-mpg        205 non-null    int64  \n",
      " 14  price              205 non-null    int64  \n",
      "dtypes: float64(4), int64(5), object(6)\n",
      "memory usage: 24.2+ KB\n"
     ]
    }
   ],
   "source": [
    "df.info()"
   ]
  },
  {
   "cell_type": "code",
   "execution_count": 93,
   "id": "6c4a713d-37b8-42a3-bbfc-0617338967b9",
   "metadata": {},
   "outputs": [],
   "source": [
    "#calculating mean of columns\n",
    "nl=df['normalized-losses'].mean()\n",
    "hp=df['horsepower'].mean()"
   ]
  },
  {
   "cell_type": "code",
   "execution_count": 94,
   "id": "ae50d99f-c4eb-4b20-a0bb-4fd7ff5334de",
   "metadata": {},
   "outputs": [],
   "source": [
    "#handling null values using fillna()"
   ]
  },
  {
   "cell_type": "code",
   "execution_count": 95,
   "id": "dc64b4da-eaab-4324-99ca-09a45374396b",
   "metadata": {},
   "outputs": [],
   "source": [
    "df['normalized-losses'].fillna(nl,inplace=True)\n",
    "df['horsepower'].fillna(hp,inplace=True)"
   ]
  },
  {
   "cell_type": "code",
   "execution_count": 96,
   "id": "a87d09d6-f453-4c5d-bc30-07904b7c905d",
   "metadata": {},
   "outputs": [
    {
     "data": {
      "text/html": [
       "<div>\n",
       "<style scoped>\n",
       "    .dataframe tbody tr th:only-of-type {\n",
       "        vertical-align: middle;\n",
       "    }\n",
       "\n",
       "    .dataframe tbody tr th {\n",
       "        vertical-align: top;\n",
       "    }\n",
       "\n",
       "    .dataframe thead th {\n",
       "        text-align: right;\n",
       "    }\n",
       "</style>\n",
       "<table border=\"1\" class=\"dataframe\">\n",
       "  <thead>\n",
       "    <tr style=\"text-align: right;\">\n",
       "      <th></th>\n",
       "      <th>symboling</th>\n",
       "      <th>normalized-losses</th>\n",
       "      <th>make</th>\n",
       "      <th>fuel-type</th>\n",
       "      <th>body-style</th>\n",
       "      <th>drive-wheels</th>\n",
       "      <th>engine-location</th>\n",
       "      <th>width</th>\n",
       "      <th>height</th>\n",
       "      <th>engine-type</th>\n",
       "      <th>engine-size</th>\n",
       "      <th>horsepower</th>\n",
       "      <th>city-mpg</th>\n",
       "      <th>highway-mpg</th>\n",
       "      <th>price</th>\n",
       "    </tr>\n",
       "  </thead>\n",
       "  <tbody>\n",
       "    <tr>\n",
       "      <th>0</th>\n",
       "      <td>3</td>\n",
       "      <td>122.0</td>\n",
       "      <td>alfa-romero</td>\n",
       "      <td>gas</td>\n",
       "      <td>convertible</td>\n",
       "      <td>rwd</td>\n",
       "      <td>front</td>\n",
       "      <td>64.1</td>\n",
       "      <td>48.8</td>\n",
       "      <td>dohc</td>\n",
       "      <td>130</td>\n",
       "      <td>111.0</td>\n",
       "      <td>21</td>\n",
       "      <td>27</td>\n",
       "      <td>13495</td>\n",
       "    </tr>\n",
       "    <tr>\n",
       "      <th>1</th>\n",
       "      <td>3</td>\n",
       "      <td>122.0</td>\n",
       "      <td>alfa-romero</td>\n",
       "      <td>gas</td>\n",
       "      <td>convertible</td>\n",
       "      <td>rwd</td>\n",
       "      <td>front</td>\n",
       "      <td>64.1</td>\n",
       "      <td>48.8</td>\n",
       "      <td>dohc</td>\n",
       "      <td>130</td>\n",
       "      <td>111.0</td>\n",
       "      <td>21</td>\n",
       "      <td>27</td>\n",
       "      <td>16500</td>\n",
       "    </tr>\n",
       "    <tr>\n",
       "      <th>2</th>\n",
       "      <td>1</td>\n",
       "      <td>122.0</td>\n",
       "      <td>alfa-romero</td>\n",
       "      <td>gas</td>\n",
       "      <td>hatchback</td>\n",
       "      <td>rwd</td>\n",
       "      <td>front</td>\n",
       "      <td>65.5</td>\n",
       "      <td>52.4</td>\n",
       "      <td>ohcv</td>\n",
       "      <td>152</td>\n",
       "      <td>154.0</td>\n",
       "      <td>19</td>\n",
       "      <td>26</td>\n",
       "      <td>16500</td>\n",
       "    </tr>\n",
       "    <tr>\n",
       "      <th>3</th>\n",
       "      <td>2</td>\n",
       "      <td>164.0</td>\n",
       "      <td>audi</td>\n",
       "      <td>gas</td>\n",
       "      <td>sedan</td>\n",
       "      <td>fwd</td>\n",
       "      <td>front</td>\n",
       "      <td>66.2</td>\n",
       "      <td>54.3</td>\n",
       "      <td>ohc</td>\n",
       "      <td>109</td>\n",
       "      <td>102.0</td>\n",
       "      <td>24</td>\n",
       "      <td>30</td>\n",
       "      <td>13950</td>\n",
       "    </tr>\n",
       "    <tr>\n",
       "      <th>4</th>\n",
       "      <td>2</td>\n",
       "      <td>164.0</td>\n",
       "      <td>audi</td>\n",
       "      <td>gas</td>\n",
       "      <td>sedan</td>\n",
       "      <td>4wd</td>\n",
       "      <td>front</td>\n",
       "      <td>66.4</td>\n",
       "      <td>54.3</td>\n",
       "      <td>ohc</td>\n",
       "      <td>136</td>\n",
       "      <td>115.0</td>\n",
       "      <td>18</td>\n",
       "      <td>22</td>\n",
       "      <td>17450</td>\n",
       "    </tr>\n",
       "  </tbody>\n",
       "</table>\n",
       "</div>"
      ],
      "text/plain": [
       "   symboling  normalized-losses         make fuel-type   body-style  \\\n",
       "0          3              122.0  alfa-romero       gas  convertible   \n",
       "1          3              122.0  alfa-romero       gas  convertible   \n",
       "2          1              122.0  alfa-romero       gas    hatchback   \n",
       "3          2              164.0         audi       gas        sedan   \n",
       "4          2              164.0         audi       gas        sedan   \n",
       "\n",
       "  drive-wheels engine-location  width  height engine-type  engine-size  \\\n",
       "0          rwd           front   64.1    48.8        dohc          130   \n",
       "1          rwd           front   64.1    48.8        dohc          130   \n",
       "2          rwd           front   65.5    52.4        ohcv          152   \n",
       "3          fwd           front   66.2    54.3         ohc          109   \n",
       "4          4wd           front   66.4    54.3         ohc          136   \n",
       "\n",
       "   horsepower  city-mpg  highway-mpg  price  \n",
       "0       111.0        21           27  13495  \n",
       "1       111.0        21           27  16500  \n",
       "2       154.0        19           26  16500  \n",
       "3       102.0        24           30  13950  \n",
       "4       115.0        18           22  17450  "
      ]
     },
     "execution_count": 96,
     "metadata": {},
     "output_type": "execute_result"
    }
   ],
   "source": [
    "df.head()"
   ]
  },
  {
   "cell_type": "code",
   "execution_count": 97,
   "id": "ec5c86f9-b11a-4b2e-9f24-6ce28555ad89",
   "metadata": {},
   "outputs": [],
   "source": [
    "#checking columns after handling null values "
   ]
  },
  {
   "cell_type": "code",
   "execution_count": 98,
   "id": "8ae34e5a-53ce-4698-84f4-115f3df0e5f8",
   "metadata": {},
   "outputs": [
    {
     "data": {
      "text/plain": [
       "array([122., 164., 158., 192., 188., 121.,  98.,  81., 118., 148., 110.,\n",
       "       145., 137., 101.,  78., 106.,  85., 107., 104., 113., 150., 129.,\n",
       "       115.,  93., 142., 161., 153., 125., 128., 103., 168., 108., 194.,\n",
       "       231., 119., 154.,  74., 186.,  83., 102.,  89.,  87.,  77.,  91.,\n",
       "       134.,  65., 197.,  90.,  94., 256.,  95.])"
      ]
     },
     "execution_count": 98,
     "metadata": {},
     "output_type": "execute_result"
    }
   ],
   "source": [
    "df['normalized-losses'].unique()"
   ]
  },
  {
   "cell_type": "code",
   "execution_count": 99,
   "id": "602505cb-fc93-4ba3-be48-b2c483a63df1",
   "metadata": {},
   "outputs": [
    {
     "data": {
      "text/plain": [
       "array([111.        , 154.        , 102.        , 115.        ,\n",
       "       110.        , 140.        , 160.        , 101.        ,\n",
       "       121.        , 182.        ,  48.        ,  70.        ,\n",
       "        68.        ,  88.        , 145.        ,  58.        ,\n",
       "        76.        ,  60.        ,  86.        , 100.        ,\n",
       "        78.        ,  90.        , 176.        , 262.        ,\n",
       "       135.        ,  84.        ,  64.        , 120.        ,\n",
       "        72.        , 123.        , 155.        , 184.        ,\n",
       "       175.        , 116.        ,  69.        ,  55.        ,\n",
       "        97.        , 152.        , 200.        ,  95.        ,\n",
       "       142.        , 143.        , 207.        , 288.        ,\n",
       "       104.25615764,  73.        ,  82.        ,  94.        ,\n",
       "        62.        ,  56.        , 112.        ,  92.        ,\n",
       "       161.        , 156.        ,  52.        ,  85.        ,\n",
       "       114.        , 162.        , 134.        , 106.        ])"
      ]
     },
     "execution_count": 99,
     "metadata": {},
     "output_type": "execute_result"
    }
   ],
   "source": [
    "df['horsepower'].unique()"
   ]
  },
  {
   "cell_type": "code",
   "execution_count": 100,
   "id": "b70d7a90-917b-4705-a905-d1446eee5906",
   "metadata": {},
   "outputs": [
    {
     "data": {
      "text/plain": [
       "0"
      ]
     },
     "execution_count": 100,
     "metadata": {},
     "output_type": "execute_result"
    }
   ],
   "source": [
    "df['horsepower'].isnull().sum()"
   ]
  },
  {
   "cell_type": "code",
   "execution_count": 101,
   "id": "31fb61e1-25da-4301-b77a-211832849615",
   "metadata": {},
   "outputs": [
    {
     "data": {
      "text/plain": [
       "0"
      ]
     },
     "execution_count": 101,
     "metadata": {},
     "output_type": "execute_result"
    }
   ],
   "source": [
    "df['normalized-losses'].isnull().sum()"
   ]
  },
  {
   "cell_type": "code",
   "execution_count": 102,
   "id": "67c208c5-650b-493e-b05e-1097351fb382",
   "metadata": {},
   "outputs": [
    {
     "name": "stdout",
     "output_type": "stream",
     "text": [
      "<class 'pandas.core.frame.DataFrame'>\n",
      "RangeIndex: 205 entries, 0 to 204\n",
      "Data columns (total 15 columns):\n",
      " #   Column             Non-Null Count  Dtype  \n",
      "---  ------             --------------  -----  \n",
      " 0   symboling          205 non-null    int64  \n",
      " 1   normalized-losses  205 non-null    float64\n",
      " 2   make               205 non-null    object \n",
      " 3   fuel-type          205 non-null    object \n",
      " 4   body-style         205 non-null    object \n",
      " 5   drive-wheels       205 non-null    object \n",
      " 6   engine-location    205 non-null    object \n",
      " 7   width              205 non-null    float64\n",
      " 8   height             205 non-null    float64\n",
      " 9   engine-type        205 non-null    object \n",
      " 10  engine-size        205 non-null    int64  \n",
      " 11  horsepower         205 non-null    float64\n",
      " 12  city-mpg           205 non-null    int64  \n",
      " 13  highway-mpg        205 non-null    int64  \n",
      " 14  price              205 non-null    int64  \n",
      "dtypes: float64(4), int64(5), object(6)\n",
      "memory usage: 24.2+ KB\n"
     ]
    }
   ],
   "source": [
    "# cheking more information about dataset after handling null values\n",
    "df.info()"
   ]
  },
  {
   "cell_type": "markdown",
   "id": "c98eff53-5d3a-4eb0-bdc6-e88f72021f09",
   "metadata": {},
   "source": [
    "<font size=\"6\">3. Understanding your variables</font>"
   ]
  },
  {
   "cell_type": "code",
   "execution_count": 103,
   "id": "b1b1065b-7d93-463c-9b3a-6bcd6d89bacf",
   "metadata": {},
   "outputs": [
    {
     "name": "stdout",
     "output_type": "stream",
     "text": [
      "List of columns: ['symboling', 'normalized-losses', 'make', 'fuel-type', 'body-style', 'drive-wheels', 'engine-location', 'width', 'height', 'engine-type', 'engine-size', 'horsepower', 'city-mpg', 'highway-mpg', 'price']\n"
     ]
    }
   ],
   "source": [
    "list_of_columns = list(df.columns)\n",
    "print(f'List of columns:',list_of_columns)"
   ]
  },
  {
   "cell_type": "markdown",
   "id": "2910e668-7353-4642-aef6-d73a899e05a7",
   "metadata": {},
   "source": [
    "1. symboling: This column represents the insurance risk rating of the vehicle. It is often used by insurance companies to assess the risk associated with insuring a particular vehicle.\n",
    "2. normalized-losses: This column indicates the normalized losses in insurance claims for the vehicles.\n",
    "3. make: This column specifies the manufacturer or brand of the vehicle, such as 'alfa-romero', 'audi', etc.\n",
    "4. fuel-type: This column indicates the type of fuel used by the vehicle, which could be 'gas' or another type of fuel like 'diesel'.\n",
    "5. body-style: This column describes the body style of the vehicle, such as 'convertible', 'sedan', 'hatchback', etc.\n",
    "6. drive-wheels: This column specifies the type of drive wheels the vehicle has, which can be 'fwd' (front-wheel drive), 'rwd' (rear-wheel drive), or '4wd' (four-wheel drive).\n",
    "7. engine-location: This column specifies the location of the engine in the vehicle, which can be 'front' or 'rear'.\n",
    "8. width: This column represents the width of the vehicle in inches.\n",
    "9. height: This column represents the height of the vehicle in inches.\n",
    "10. engine-type: This column specifies the type of engine used in the vehicle, such as 'dohc' (double overhead camshaft), 'ohcv' (overhead valve camshaft), etc.\n",
    "11. engine-size: This column indicates the engine size.\n",
    "12. horsepower: This column represents the horsepower (hp) of the vehicle's engine.\n",
    "13. city-mpg: This column specifies the vehicle's fuel efficiency in miles per gallon (mpg) under city driving conditions.\n",
    "14. highway-mpg: This column specifies the vehicle's fuel efficiency in miles per gallon (mpg) under highway driving conditions.\n",
    "15. price: This column represents the price of the vehicle."
   ]
  },
  {
   "cell_type": "markdown",
   "id": "c6134821-7f9c-4737-94da-d2fbe09589ec",
   "metadata": {},
   "source": [
    "<font size=\"6\">4. Data Visualization and Analysis</font>"
   ]
  },
  {
   "cell_type": "markdown",
   "id": "fd41039b-af40-4957-a6fc-f77253313188",
   "metadata": {},
   "source": [
    "1. What is the distribution of car manufacturers in the dataset, and which manufacturer appears most frequently based on the number of cars recorded?"
   ]
  },
  {
   "cell_type": "code",
   "execution_count": 104,
   "id": "3bd9028a-fe0b-48cd-899f-d5957dcc77e1",
   "metadata": {},
   "outputs": [
    {
     "data": {
      "image/png": "[encoded data removed]",
      "text/plain": [
       "<Figure size 640x480 with 1 Axes>"
      ]
     },
     "metadata": {},
     "output_type": "display_data"
    }
   ],
   "source": [
    "x=list(df['make'].unique())\n",
    "y=list(df['make'].value_counts())\n",
    "plt.bar(x,y)\n",
    "plt.xticks(rotation=90)\n",
    "plt.xlabel('Make')\n",
    "plt.ylabel('Frequency')\n",
    "plt.title('Distribution of Car Manufacturer')\n",
    "plt.show()"
   ]
  },
  {
   "cell_type": "markdown",
   "id": "5b64c6d2-88dc-4d0b-b01f-ea8291db0d39",
   "metadata": {},
   "source": [
    "From above bar graph we can see that alfa-romero car manufacturer appears most frequently based on the number of cars recorded"
   ]
  },
  {
   "cell_type": "markdown",
   "id": "90ea3ac1-fc6f-4f60-a4b3-ba252bed437e",
   "metadata": {},
   "source": [
    "2.How does the distribution of body styles vary among the cars in the dataset, and which body style constitutes the largest proportion of the recorded cars?"
   ]
  },
  {
   "cell_type": "code",
   "execution_count": 105,
   "id": "48bbb896-0a23-44b5-9f5f-f42b2edc765b",
   "metadata": {},
   "outputs": [
    {
     "data": {
      "image/png": "[encoded data removed]",
      "text/plain": [
       "<Figure size 640x480 with 1 Axes>"
      ]
     },
     "metadata": {},
     "output_type": "display_data"
    }
   ],
   "source": [
    "df['body-style'].value_counts().plot.pie(autopct=\"% 1.1f%%\",explode=(0,0,0.2,0,0))\n",
    "plt.title('Distribution of body styles of Car')\n",
    "plt.show()"
   ]
  },
  {
   "cell_type": "markdown",
   "id": "e31df866-9865-46d1-9571-6b78f139db27",
   "metadata": {},
   "source": [
    "here, we can see that sedan body style constitutes the largest proportion i.e 46.8% of the recorded cars followed by hatchback. Where as convertible and hardtop constitute very portion 2.9% and 3.9% respectively."
   ]
  },
  {
   "cell_type": "markdown",
   "id": "3046474d-a24a-4ecf-8edc-a4f1ff426ade",
   "metadata": {},
   "source": [
    "3.What is a correlation between the width of cars and their prices?"
   ]
  },
  {
   "cell_type": "code",
   "execution_count": 106,
   "id": "140f72f1-d604-473d-9134-5f8f7133bd20",
   "metadata": {},
   "outputs": [
    {
     "data": {
      "image/png": "[encoded data removed]",
      "text/plain": [
       "<Figure size 640x480 with 1 Axes>"
      ]
     },
     "metadata": {},
     "output_type": "display_data"
    }
   ],
   "source": [
    "plt.scatter(df['width'],df['price'])\n",
    "plt.xlabel('Width')\n",
    "plt.ylabel('Price')\n",
    "plt.title('Correlation between Width and Price')\n",
    "plt.show()"
   ]
  },
  {
   "cell_type": "markdown",
   "id": "afca3e14-a976-4d50-a018-2c60648a8ad9",
   "metadata": {},
   "source": [
    "The scatter plot displays a graphical representation of the relationship between the width of cars and their corresponding prices.We can see there is no as such correlation between width and price of the cars."
   ]
  },
  {
   "cell_type": "markdown",
   "id": "1945975e-ceec-4b43-b09a-37b811909167",
   "metadata": {},
   "source": [
    "4..How does the distributio  o fuel types  vary among the cars in the datast??"
   ]
  },
  {
   "cell_type": "code",
   "execution_count": 107,
   "id": "d1189a17-6698-4e0a-9e6c-af74287f9691",
   "metadata": {},
   "outputs": [
    {
     "data": {
      "image/png": "[encoded data removed]",
      "text/plain": [
       "<Figure size 640x480 with 1 Axes>"
      ]
     },
     "metadata": {},
     "output_type": "display_data"
    }
   ],
   "source": [
    "df['fuel-type'].value_counts().plot.pie(autopct=\"% 1.1f%%\",explode=(0,0.2))\n",
    "plt.title('Distribution of fuel-type ')\n",
    "plt.show()"
   ]
  },
  {
   "cell_type": "markdown",
   "id": "f0deb9a9-ce94-4f02-93f5-bd7b39a4f3fe",
   "metadata": {},
   "source": [
    "In the above pie chart, we can see that 90.2% of cars in the dataset use gas as a fuel."
   ]
  },
  {
   "cell_type": "markdown",
   "id": "11b15f86-d839-432d-b1e4-1eca11e34128",
   "metadata": {},
   "source": [
    "5.What is the most frequent city MPG value among the cars in the dataset?"
   ]
  },
  {
   "cell_type": "code",
   "execution_count": 108,
   "id": "9b58f9dc-9427-4693-b04e-10b0a1be5a91",
   "metadata": {},
   "outputs": [
    {
     "data": {
      "image/png": "[encoded data removed]",
      "text/plain": [
       "<Figure size 800x600 with 1 Axes>"
      ]
     },
     "metadata": {},
     "output_type": "display_data"
    }
   ],
   "source": [
    "plt.figure(figsize=(8, 6))\n",
    "plt.hist(df['city-mpg'], bins=20, edgecolor='black')\n",
    "plt.xlabel('City MPG')\n",
    "plt.ylabel('Frequency')\n",
    "plt.title('Distribution of City MPG')\n",
    "plt.show()"
   ]
  },
  {
   "cell_type": "markdown",
   "id": "0e3b4078-6af7-4bd0-a403-2d11e2bf6b27",
   "metadata": {},
   "source": [
    "Here, the data is more concentrated on the left side in the histogram of city MPG, it indicates right skewness. This implies that there are relatively fewer cars with very high city MPG values, and the majority of cars have lower MPG values."
   ]
  },
  {
   "cell_type": "markdown",
   "id": "fb9544b4-db87-40e2-8278-bf357169534d",
   "metadata": {},
   "source": [
    "6.What is the most frequent highway MPG value among the cars in the dataset?"
   ]
  },
  {
   "cell_type": "code",
   "execution_count": 109,
   "id": "68827a2e-3c65-4bea-9f9d-3165e9bd98ac",
   "metadata": {},
   "outputs": [
    {
     "data": {
      "image/png": "[encoded data removed]",
      "text/plain": [
       "<Figure size 800x600 with 1 Axes>"
      ]
     },
     "metadata": {},
     "output_type": "display_data"
    }
   ],
   "source": [
    "plt.figure(figsize=(8, 6))\n",
    "plt.hist(df['highway-mpg'], bins=20, edgecolor='black', alpha=0.7)\n",
    "plt.xlabel('Highway MPG')\n",
    "plt.ylabel('Frequency')\n",
    "plt.title('Distribution of Highway MPG')\n",
    "plt.show()"
   ]
  },
  {
   "cell_type": "markdown",
   "id": "62ddce9f-a4d3-4d4d-8d6a-d1367ae56d0e",
   "metadata": {},
   "source": [
    "The histogram of highway MPG shows that the distribution is somewhat bell-shaped, with a peak around the middle values between 25 and 40 MPG. This suggests that a significant number of cars in the dataset have highway MPG values in this range."
   ]
  },
  {
   "cell_type": "markdown",
   "id": "ab870f70-2686-48d7-a0a8-0d807c13449d",
   "metadata": {},
   "source": [
    "7.How does the price distribution vary among different car manufacturers?"
   ]
  },
  {
   "cell_type": "code",
   "execution_count": 110,
   "id": "fe7e9d18-edac-4262-aa83-7afe50a3c06b",
   "metadata": {},
   "outputs": [
    {
     "data": {
      "image/png": "[encoded data removed]",
      "text/plain": [
       "<Figure size 1000x800 with 1 Axes>"
      ]
     },
     "metadata": {},
     "output_type": "display_data"
    }
   ],
   "source": [
    "plt.figure(figsize=(10, 8))\n",
    "sns.boxplot(x='make', y='price', data=df,hue='make')\n",
    "plt.xticks(rotation=90)\n",
    "plt.xlabel('Car Manufacturer')\n",
    "plt.ylabel('Price')\n",
    "plt.title('Price Distribution by Car Manufacturer')\n",
    "plt.show()"
   ]
  },
  {
   "cell_type": "markdown",
   "id": "c1fac21c-53f1-4053-b3d3-1a61ebdf1670",
   "metadata": {},
   "source": [
    "The box plot compares the price distribution across different car manufacturers, providing insights into the range and outliers of car prices for each manufacturer."
   ]
  },
  {
   "cell_type": "markdown",
   "id": "ca272073-62dc-4933-b37f-56b09f0fc0ed",
   "metadata": {},
   "source": [
    "8.What is a correlation between the horsepower and engine size of cars?"
   ]
  },
  {
   "cell_type": "code",
   "execution_count": 111,
   "id": "45c1c4e3-5545-4403-9270-478fde334458",
   "metadata": {},
   "outputs": [
    {
     "data": {
      "image/png": "[encoded data removed]",
      "text/plain": [
       "<Figure size 800x600 with 1 Axes>"
      ]
     },
     "metadata": {},
     "output_type": "display_data"
    }
   ],
   "source": [
    "plt.figure(figsize=(8, 6))\n",
    "plt.scatter(df['engine-size'], df['horsepower'], alpha=0.7, color='b')\n",
    "plt.xlabel('Engine Size')\n",
    "plt.ylabel('Horsepower')\n",
    "plt.title('Engine Size vs. Horsepower')\n",
    "plt.grid(True)\n",
    "plt.show()"
   ]
  },
  {
   "cell_type": "markdown",
   "id": "d8913aca-74a7-4d91-9faf-20f4fc2fa924",
   "metadata": {},
   "source": [
    "From above scatter plot, we can see there is positive correlation between engine-size and horsepower."
   ]
  },
  {
   "cell_type": "markdown",
   "id": "7d57f33c-8a12-4a37-8dc3-77927f2690b6",
   "metadata": {},
   "source": [
    "9.What proportion of vehicles in the dataset have the engine located at the rear versus the front?"
   ]
  },
  {
   "cell_type": "code",
   "execution_count": 112,
   "id": "4ecae6b1-5dad-4f46-af7c-a7880e5d1fd1",
   "metadata": {},
   "outputs": [
    {
     "data": {
      "image/png": "[encoded data removed]",
      "text/plain": [
       "<Figure size 640x480 with 1 Axes>"
      ]
     },
     "metadata": {},
     "output_type": "display_data"
    }
   ],
   "source": [
    "df['engine-location'].value_counts().plot.pie(autopct=\"% 1.1f%%\",explode=(0,0.2))\n",
    "plt.title('Distribution of engine-location ')\n",
    "plt.show()"
   ]
  },
  {
   "cell_type": "markdown",
   "id": "6085d7a1-eeb9-43fe-bdf2-c3a95dce7a32",
   "metadata": {},
   "source": [
    "In the above pie chart,front covers more area means that larger proportion of vehicles with front-engine placement, it implies that the majority of vehicles in the dataset have their engines located at the front of the vehicle. This distribution suggests that front-engine configuration is more compared to rear-engine placement."
   ]
  },
  {
   "cell_type": "markdown",
   "id": "6e70df31-8a21-4490-b9f1-9a0582271229",
   "metadata": {},
   "source": [
    "10.How engine-size influence price of cars?"
   ]
  },
  {
   "cell_type": "code",
   "execution_count": 113,
   "id": "94e2c15c-0f17-4d78-839d-b17474b477d3",
   "metadata": {},
   "outputs": [
    {
     "data": {
      "image/png": "[encoded data removed]",
      "text/plain": [
       "<Figure size 1000x400 with 1 Axes>"
      ]
     },
     "metadata": {},
     "output_type": "display_data"
    }
   ],
   "source": [
    "plt.figure(figsize=(10, 4))\n",
    "plt.scatter(df['engine-size'], df['price'])\n",
    "plt.title('Engine Size vs. Price')\n",
    "plt.xlabel('Engine Size')\n",
    "plt.ylabel('Price')\n",
    "plt.grid(True)\n",
    "plt.show()"
   ]
  },
  {
   "cell_type": "markdown",
   "id": "f174960e-d970-4015-b98e-cf6627e408a9",
   "metadata": {},
   "source": [
    "From above scatter plot, we can see there is positive correlation between engine-size and price of cars. It indicates that larger engine sizes tend to be associated with higher prices."
   ]
  },
  {
   "cell_type": "markdown",
   "id": "69313db6-3524-4696-ab2b-ca6ba4873467",
   "metadata": {},
   "source": [
    "<font size=\"6\">6.Label Encoding.</font>"
   ]
  },
  {
   "cell_type": "markdown",
   "id": "412e5fce-e9f1-43b5-9d9b-2368663ee365",
   "metadata": {},
   "source": [
    "Converting Target column into numeric for futhure Analysis."
   ]
  },
  {
   "cell_type": "code",
   "execution_count": 114,
   "id": "ea0ca96d-0048-42b0-87b2-f3c3bb27733d",
   "metadata": {},
   "outputs": [],
   "source": [
    "categorical_data=df.select_dtypes('object')"
   ]
  },
  {
   "cell_type": "code",
   "execution_count": 115,
   "id": "e59c942d-e8dd-4cde-9267-986a7a519c3e",
   "metadata": {},
   "outputs": [
    {
     "data": {
      "text/html": [
       "<div>\n",
       "<style scoped>\n",
       "    .dataframe tbody tr th:only-of-type {\n",
       "        vertical-align: middle;\n",
       "    }\n",
       "\n",
       "    .dataframe tbody tr th {\n",
       "        vertical-align: top;\n",
       "    }\n",
       "\n",
       "    .dataframe thead th {\n",
       "        text-align: right;\n",
       "    }\n",
       "</style>\n",
       "<table border=\"1\" class=\"dataframe\">\n",
       "  <thead>\n",
       "    <tr style=\"text-align: right;\">\n",
       "      <th></th>\n",
       "      <th>make</th>\n",
       "      <th>fuel-type</th>\n",
       "      <th>body-style</th>\n",
       "      <th>drive-wheels</th>\n",
       "      <th>engine-location</th>\n",
       "      <th>engine-type</th>\n",
       "    </tr>\n",
       "  </thead>\n",
       "  <tbody>\n",
       "    <tr>\n",
       "      <th>0</th>\n",
       "      <td>alfa-romero</td>\n",
       "      <td>gas</td>\n",
       "      <td>convertible</td>\n",
       "      <td>rwd</td>\n",
       "      <td>front</td>\n",
       "      <td>dohc</td>\n",
       "    </tr>\n",
       "    <tr>\n",
       "      <th>1</th>\n",
       "      <td>alfa-romero</td>\n",
       "      <td>gas</td>\n",
       "      <td>convertible</td>\n",
       "      <td>rwd</td>\n",
       "      <td>front</td>\n",
       "      <td>dohc</td>\n",
       "    </tr>\n",
       "    <tr>\n",
       "      <th>2</th>\n",
       "      <td>alfa-romero</td>\n",
       "      <td>gas</td>\n",
       "      <td>hatchback</td>\n",
       "      <td>rwd</td>\n",
       "      <td>front</td>\n",
       "      <td>ohcv</td>\n",
       "    </tr>\n",
       "    <tr>\n",
       "      <th>3</th>\n",
       "      <td>audi</td>\n",
       "      <td>gas</td>\n",
       "      <td>sedan</td>\n",
       "      <td>fwd</td>\n",
       "      <td>front</td>\n",
       "      <td>ohc</td>\n",
       "    </tr>\n",
       "    <tr>\n",
       "      <th>4</th>\n",
       "      <td>audi</td>\n",
       "      <td>gas</td>\n",
       "      <td>sedan</td>\n",
       "      <td>4wd</td>\n",
       "      <td>front</td>\n",
       "      <td>ohc</td>\n",
       "    </tr>\n",
       "    <tr>\n",
       "      <th>...</th>\n",
       "      <td>...</td>\n",
       "      <td>...</td>\n",
       "      <td>...</td>\n",
       "      <td>...</td>\n",
       "      <td>...</td>\n",
       "      <td>...</td>\n",
       "    </tr>\n",
       "    <tr>\n",
       "      <th>200</th>\n",
       "      <td>volvo</td>\n",
       "      <td>gas</td>\n",
       "      <td>sedan</td>\n",
       "      <td>rwd</td>\n",
       "      <td>front</td>\n",
       "      <td>ohc</td>\n",
       "    </tr>\n",
       "    <tr>\n",
       "      <th>201</th>\n",
       "      <td>volvo</td>\n",
       "      <td>gas</td>\n",
       "      <td>sedan</td>\n",
       "      <td>rwd</td>\n",
       "      <td>front</td>\n",
       "      <td>ohc</td>\n",
       "    </tr>\n",
       "    <tr>\n",
       "      <th>202</th>\n",
       "      <td>volvo</td>\n",
       "      <td>gas</td>\n",
       "      <td>sedan</td>\n",
       "      <td>rwd</td>\n",
       "      <td>front</td>\n",
       "      <td>ohcv</td>\n",
       "    </tr>\n",
       "    <tr>\n",
       "      <th>203</th>\n",
       "      <td>volvo</td>\n",
       "      <td>diesel</td>\n",
       "      <td>sedan</td>\n",
       "      <td>rwd</td>\n",
       "      <td>front</td>\n",
       "      <td>ohc</td>\n",
       "    </tr>\n",
       "    <tr>\n",
       "      <th>204</th>\n",
       "      <td>volvo</td>\n",
       "      <td>gas</td>\n",
       "      <td>sedan</td>\n",
       "      <td>rwd</td>\n",
       "      <td>front</td>\n",
       "      <td>ohc</td>\n",
       "    </tr>\n",
       "  </tbody>\n",
       "</table>\n",
       "<p>205 rows × 6 columns</p>\n",
       "</div>"
      ],
      "text/plain": [
       "            make fuel-type   body-style drive-wheels engine-location  \\\n",
       "0    alfa-romero       gas  convertible          rwd           front   \n",
       "1    alfa-romero       gas  convertible          rwd           front   \n",
       "2    alfa-romero       gas    hatchback          rwd           front   \n",
       "3           audi       gas        sedan          fwd           front   \n",
       "4           audi       gas        sedan          4wd           front   \n",
       "..           ...       ...          ...          ...             ...   \n",
       "200        volvo       gas        sedan          rwd           front   \n",
       "201        volvo       gas        sedan          rwd           front   \n",
       "202        volvo       gas        sedan          rwd           front   \n",
       "203        volvo    diesel        sedan          rwd           front   \n",
       "204        volvo       gas        sedan          rwd           front   \n",
       "\n",
       "    engine-type  \n",
       "0          dohc  \n",
       "1          dohc  \n",
       "2          ohcv  \n",
       "3           ohc  \n",
       "4           ohc  \n",
       "..          ...  \n",
       "200         ohc  \n",
       "201         ohc  \n",
       "202        ohcv  \n",
       "203         ohc  \n",
       "204         ohc  \n",
       "\n",
       "[205 rows x 6 columns]"
      ]
     },
     "execution_count": 115,
     "metadata": {},
     "output_type": "execute_result"
    }
   ],
   "source": [
    "categorical_data"
   ]
  },
  {
   "cell_type": "code",
   "execution_count": 116,
   "id": "a4ebb1dc-9cdd-4009-8148-fad438c1d2ed",
   "metadata": {},
   "outputs": [],
   "source": [
    "num_data=df.select_dtypes([int,float])"
   ]
  },
  {
   "cell_type": "code",
   "execution_count": 117,
   "id": "60fed18f-a12e-4ffd-af1e-0cede783ecf1",
   "metadata": {},
   "outputs": [
    {
     "data": {
      "text/html": [
       "<div>\n",
       "<style scoped>\n",
       "    .dataframe tbody tr th:only-of-type {\n",
       "        vertical-align: middle;\n",
       "    }\n",
       "\n",
       "    .dataframe tbody tr th {\n",
       "        vertical-align: top;\n",
       "    }\n",
       "\n",
       "    .dataframe thead th {\n",
       "        text-align: right;\n",
       "    }\n",
       "</style>\n",
       "<table border=\"1\" class=\"dataframe\">\n",
       "  <thead>\n",
       "    <tr style=\"text-align: right;\">\n",
       "      <th></th>\n",
       "      <th>symboling</th>\n",
       "      <th>normalized-losses</th>\n",
       "      <th>width</th>\n",
       "      <th>height</th>\n",
       "      <th>engine-size</th>\n",
       "      <th>horsepower</th>\n",
       "      <th>city-mpg</th>\n",
       "      <th>highway-mpg</th>\n",
       "      <th>price</th>\n",
       "    </tr>\n",
       "  </thead>\n",
       "  <tbody>\n",
       "    <tr>\n",
       "      <th>0</th>\n",
       "      <td>3</td>\n",
       "      <td>122.0</td>\n",
       "      <td>64.1</td>\n",
       "      <td>48.8</td>\n",
       "      <td>130</td>\n",
       "      <td>111.0</td>\n",
       "      <td>21</td>\n",
       "      <td>27</td>\n",
       "      <td>13495</td>\n",
       "    </tr>\n",
       "    <tr>\n",
       "      <th>1</th>\n",
       "      <td>3</td>\n",
       "      <td>122.0</td>\n",
       "      <td>64.1</td>\n",
       "      <td>48.8</td>\n",
       "      <td>130</td>\n",
       "      <td>111.0</td>\n",
       "      <td>21</td>\n",
       "      <td>27</td>\n",
       "      <td>16500</td>\n",
       "    </tr>\n",
       "    <tr>\n",
       "      <th>2</th>\n",
       "      <td>1</td>\n",
       "      <td>122.0</td>\n",
       "      <td>65.5</td>\n",
       "      <td>52.4</td>\n",
       "      <td>152</td>\n",
       "      <td>154.0</td>\n",
       "      <td>19</td>\n",
       "      <td>26</td>\n",
       "      <td>16500</td>\n",
       "    </tr>\n",
       "    <tr>\n",
       "      <th>3</th>\n",
       "      <td>2</td>\n",
       "      <td>164.0</td>\n",
       "      <td>66.2</td>\n",
       "      <td>54.3</td>\n",
       "      <td>109</td>\n",
       "      <td>102.0</td>\n",
       "      <td>24</td>\n",
       "      <td>30</td>\n",
       "      <td>13950</td>\n",
       "    </tr>\n",
       "    <tr>\n",
       "      <th>4</th>\n",
       "      <td>2</td>\n",
       "      <td>164.0</td>\n",
       "      <td>66.4</td>\n",
       "      <td>54.3</td>\n",
       "      <td>136</td>\n",
       "      <td>115.0</td>\n",
       "      <td>18</td>\n",
       "      <td>22</td>\n",
       "      <td>17450</td>\n",
       "    </tr>\n",
       "    <tr>\n",
       "      <th>...</th>\n",
       "      <td>...</td>\n",
       "      <td>...</td>\n",
       "      <td>...</td>\n",
       "      <td>...</td>\n",
       "      <td>...</td>\n",
       "      <td>...</td>\n",
       "      <td>...</td>\n",
       "      <td>...</td>\n",
       "      <td>...</td>\n",
       "    </tr>\n",
       "    <tr>\n",
       "      <th>200</th>\n",
       "      <td>-1</td>\n",
       "      <td>95.0</td>\n",
       "      <td>68.9</td>\n",
       "      <td>55.5</td>\n",
       "      <td>141</td>\n",
       "      <td>114.0</td>\n",
       "      <td>23</td>\n",
       "      <td>28</td>\n",
       "      <td>16845</td>\n",
       "    </tr>\n",
       "    <tr>\n",
       "      <th>201</th>\n",
       "      <td>-1</td>\n",
       "      <td>95.0</td>\n",
       "      <td>68.8</td>\n",
       "      <td>55.5</td>\n",
       "      <td>141</td>\n",
       "      <td>160.0</td>\n",
       "      <td>19</td>\n",
       "      <td>25</td>\n",
       "      <td>19045</td>\n",
       "    </tr>\n",
       "    <tr>\n",
       "      <th>202</th>\n",
       "      <td>-1</td>\n",
       "      <td>95.0</td>\n",
       "      <td>68.9</td>\n",
       "      <td>55.5</td>\n",
       "      <td>173</td>\n",
       "      <td>134.0</td>\n",
       "      <td>18</td>\n",
       "      <td>23</td>\n",
       "      <td>21485</td>\n",
       "    </tr>\n",
       "    <tr>\n",
       "      <th>203</th>\n",
       "      <td>-1</td>\n",
       "      <td>95.0</td>\n",
       "      <td>68.9</td>\n",
       "      <td>55.5</td>\n",
       "      <td>145</td>\n",
       "      <td>106.0</td>\n",
       "      <td>26</td>\n",
       "      <td>27</td>\n",
       "      <td>22470</td>\n",
       "    </tr>\n",
       "    <tr>\n",
       "      <th>204</th>\n",
       "      <td>-1</td>\n",
       "      <td>95.0</td>\n",
       "      <td>68.9</td>\n",
       "      <td>55.5</td>\n",
       "      <td>141</td>\n",
       "      <td>114.0</td>\n",
       "      <td>19</td>\n",
       "      <td>25</td>\n",
       "      <td>22625</td>\n",
       "    </tr>\n",
       "  </tbody>\n",
       "</table>\n",
       "<p>205 rows × 9 columns</p>\n",
       "</div>"
      ],
      "text/plain": [
       "     symboling  normalized-losses  width  height  engine-size  horsepower  \\\n",
       "0            3              122.0   64.1    48.8          130       111.0   \n",
       "1            3              122.0   64.1    48.8          130       111.0   \n",
       "2            1              122.0   65.5    52.4          152       154.0   \n",
       "3            2              164.0   66.2    54.3          109       102.0   \n",
       "4            2              164.0   66.4    54.3          136       115.0   \n",
       "..         ...                ...    ...     ...          ...         ...   \n",
       "200         -1               95.0   68.9    55.5          141       114.0   \n",
       "201         -1               95.0   68.8    55.5          141       160.0   \n",
       "202         -1               95.0   68.9    55.5          173       134.0   \n",
       "203         -1               95.0   68.9    55.5          145       106.0   \n",
       "204         -1               95.0   68.9    55.5          141       114.0   \n",
       "\n",
       "     city-mpg  highway-mpg  price  \n",
       "0          21           27  13495  \n",
       "1          21           27  16500  \n",
       "2          19           26  16500  \n",
       "3          24           30  13950  \n",
       "4          18           22  17450  \n",
       "..        ...          ...    ...  \n",
       "200        23           28  16845  \n",
       "201        19           25  19045  \n",
       "202        18           23  21485  \n",
       "203        26           27  22470  \n",
       "204        19           25  22625  \n",
       "\n",
       "[205 rows x 9 columns]"
      ]
     },
     "execution_count": 117,
     "metadata": {},
     "output_type": "execute_result"
    }
   ],
   "source": [
    "num_data"
   ]
  },
  {
   "cell_type": "code",
   "execution_count": 118,
   "id": "5815564c-a5c2-4314-a2e8-8711e26973e8",
   "metadata": {},
   "outputs": [],
   "source": [
    "#importing libraries for label encoding\n",
    "from sklearn.preprocessing import LabelEncoder\n",
    "le=LabelEncoder()"
   ]
  },
  {
   "cell_type": "code",
   "execution_count": 119,
   "id": "8143b55e-a0c8-464d-a3fd-12af6b7c780e",
   "metadata": {},
   "outputs": [],
   "source": [
    "for i in categorical_data:\n",
    "    categorical_data[i]=le.fit_transform(categorical_data[i])"
   ]
  },
  {
   "cell_type": "code",
   "execution_count": 120,
   "id": "9afd23c8-0935-4058-93d1-2bc312f74fd5",
   "metadata": {},
   "outputs": [
    {
     "data": {
      "text/html": [
       "<div>\n",
       "<style scoped>\n",
       "    .dataframe tbody tr th:only-of-type {\n",
       "        vertical-align: middle;\n",
       "    }\n",
       "\n",
       "    .dataframe tbody tr th {\n",
       "        vertical-align: top;\n",
       "    }\n",
       "\n",
       "    .dataframe thead th {\n",
       "        text-align: right;\n",
       "    }\n",
       "</style>\n",
       "<table border=\"1\" class=\"dataframe\">\n",
       "  <thead>\n",
       "    <tr style=\"text-align: right;\">\n",
       "      <th></th>\n",
       "      <th>make</th>\n",
       "      <th>fuel-type</th>\n",
       "      <th>body-style</th>\n",
       "      <th>drive-wheels</th>\n",
       "      <th>engine-location</th>\n",
       "      <th>engine-type</th>\n",
       "    </tr>\n",
       "  </thead>\n",
       "  <tbody>\n",
       "    <tr>\n",
       "      <th>0</th>\n",
       "      <td>0</td>\n",
       "      <td>1</td>\n",
       "      <td>0</td>\n",
       "      <td>2</td>\n",
       "      <td>0</td>\n",
       "      <td>0</td>\n",
       "    </tr>\n",
       "    <tr>\n",
       "      <th>1</th>\n",
       "      <td>0</td>\n",
       "      <td>1</td>\n",
       "      <td>0</td>\n",
       "      <td>2</td>\n",
       "      <td>0</td>\n",
       "      <td>0</td>\n",
       "    </tr>\n",
       "    <tr>\n",
       "      <th>2</th>\n",
       "      <td>0</td>\n",
       "      <td>1</td>\n",
       "      <td>2</td>\n",
       "      <td>2</td>\n",
       "      <td>0</td>\n",
       "      <td>5</td>\n",
       "    </tr>\n",
       "    <tr>\n",
       "      <th>3</th>\n",
       "      <td>1</td>\n",
       "      <td>1</td>\n",
       "      <td>3</td>\n",
       "      <td>1</td>\n",
       "      <td>0</td>\n",
       "      <td>3</td>\n",
       "    </tr>\n",
       "    <tr>\n",
       "      <th>4</th>\n",
       "      <td>1</td>\n",
       "      <td>1</td>\n",
       "      <td>3</td>\n",
       "      <td>0</td>\n",
       "      <td>0</td>\n",
       "      <td>3</td>\n",
       "    </tr>\n",
       "    <tr>\n",
       "      <th>...</th>\n",
       "      <td>...</td>\n",
       "      <td>...</td>\n",
       "      <td>...</td>\n",
       "      <td>...</td>\n",
       "      <td>...</td>\n",
       "      <td>...</td>\n",
       "    </tr>\n",
       "    <tr>\n",
       "      <th>200</th>\n",
       "      <td>21</td>\n",
       "      <td>1</td>\n",
       "      <td>3</td>\n",
       "      <td>2</td>\n",
       "      <td>0</td>\n",
       "      <td>3</td>\n",
       "    </tr>\n",
       "    <tr>\n",
       "      <th>201</th>\n",
       "      <td>21</td>\n",
       "      <td>1</td>\n",
       "      <td>3</td>\n",
       "      <td>2</td>\n",
       "      <td>0</td>\n",
       "      <td>3</td>\n",
       "    </tr>\n",
       "    <tr>\n",
       "      <th>202</th>\n",
       "      <td>21</td>\n",
       "      <td>1</td>\n",
       "      <td>3</td>\n",
       "      <td>2</td>\n",
       "      <td>0</td>\n",
       "      <td>5</td>\n",
       "    </tr>\n",
       "    <tr>\n",
       "      <th>203</th>\n",
       "      <td>21</td>\n",
       "      <td>0</td>\n",
       "      <td>3</td>\n",
       "      <td>2</td>\n",
       "      <td>0</td>\n",
       "      <td>3</td>\n",
       "    </tr>\n",
       "    <tr>\n",
       "      <th>204</th>\n",
       "      <td>21</td>\n",
       "      <td>1</td>\n",
       "      <td>3</td>\n",
       "      <td>2</td>\n",
       "      <td>0</td>\n",
       "      <td>3</td>\n",
       "    </tr>\n",
       "  </tbody>\n",
       "</table>\n",
       "<p>205 rows × 6 columns</p>\n",
       "</div>"
      ],
      "text/plain": [
       "     make  fuel-type  body-style  drive-wheels  engine-location  engine-type\n",
       "0       0          1           0             2                0            0\n",
       "1       0          1           0             2                0            0\n",
       "2       0          1           2             2                0            5\n",
       "3       1          1           3             1                0            3\n",
       "4       1          1           3             0                0            3\n",
       "..    ...        ...         ...           ...              ...          ...\n",
       "200    21          1           3             2                0            3\n",
       "201    21          1           3             2                0            3\n",
       "202    21          1           3             2                0            5\n",
       "203    21          0           3             2                0            3\n",
       "204    21          1           3             2                0            3\n",
       "\n",
       "[205 rows x 6 columns]"
      ]
     },
     "execution_count": 120,
     "metadata": {},
     "output_type": "execute_result"
    }
   ],
   "source": [
    "categorical_data"
   ]
  },
  {
   "cell_type": "markdown",
   "id": "9b167c11-971b-4371-bcef-4a074d64041c",
   "metadata": {},
   "source": [
    "<font size=\"6\">7. EDA on Numeric data</font>"
   ]
  },
  {
   "cell_type": "code",
   "execution_count": 121,
   "id": "23a9d6f1-79a8-45d1-8afa-4ec4d3a507cd",
   "metadata": {},
   "outputs": [],
   "source": [
    "#concatenating numerical column and categorical column\n",
    "df=pd.concat([categorical_data,num_data],axis=1)"
   ]
  },
  {
   "cell_type": "code",
   "execution_count": 122,
   "id": "d2d5a60b-a662-4712-a4c9-028d65e15b30",
   "metadata": {},
   "outputs": [
    {
     "data": {
      "text/html": [
       "<div>\n",
       "<style scoped>\n",
       "    .dataframe tbody tr th:only-of-type {\n",
       "        vertical-align: middle;\n",
       "    }\n",
       "\n",
       "    .dataframe tbody tr th {\n",
       "        vertical-align: top;\n",
       "    }\n",
       "\n",
       "    .dataframe thead th {\n",
       "        text-align: right;\n",
       "    }\n",
       "</style>\n",
       "<table border=\"1\" class=\"dataframe\">\n",
       "  <thead>\n",
       "    <tr style=\"text-align: right;\">\n",
       "      <th></th>\n",
       "      <th>make</th>\n",
       "      <th>fuel-type</th>\n",
       "      <th>body-style</th>\n",
       "      <th>drive-wheels</th>\n",
       "      <th>engine-location</th>\n",
       "      <th>engine-type</th>\n",
       "      <th>symboling</th>\n",
       "      <th>normalized-losses</th>\n",
       "      <th>width</th>\n",
       "      <th>height</th>\n",
       "      <th>engine-size</th>\n",
       "      <th>horsepower</th>\n",
       "      <th>city-mpg</th>\n",
       "      <th>highway-mpg</th>\n",
       "      <th>price</th>\n",
       "    </tr>\n",
       "  </thead>\n",
       "  <tbody>\n",
       "    <tr>\n",
       "      <th>0</th>\n",
       "      <td>0</td>\n",
       "      <td>1</td>\n",
       "      <td>0</td>\n",
       "      <td>2</td>\n",
       "      <td>0</td>\n",
       "      <td>0</td>\n",
       "      <td>3</td>\n",
       "      <td>122.0</td>\n",
       "      <td>64.1</td>\n",
       "      <td>48.8</td>\n",
       "      <td>130</td>\n",
       "      <td>111.0</td>\n",
       "      <td>21</td>\n",
       "      <td>27</td>\n",
       "      <td>13495</td>\n",
       "    </tr>\n",
       "    <tr>\n",
       "      <th>1</th>\n",
       "      <td>0</td>\n",
       "      <td>1</td>\n",
       "      <td>0</td>\n",
       "      <td>2</td>\n",
       "      <td>0</td>\n",
       "      <td>0</td>\n",
       "      <td>3</td>\n",
       "      <td>122.0</td>\n",
       "      <td>64.1</td>\n",
       "      <td>48.8</td>\n",
       "      <td>130</td>\n",
       "      <td>111.0</td>\n",
       "      <td>21</td>\n",
       "      <td>27</td>\n",
       "      <td>16500</td>\n",
       "    </tr>\n",
       "    <tr>\n",
       "      <th>2</th>\n",
       "      <td>0</td>\n",
       "      <td>1</td>\n",
       "      <td>2</td>\n",
       "      <td>2</td>\n",
       "      <td>0</td>\n",
       "      <td>5</td>\n",
       "      <td>1</td>\n",
       "      <td>122.0</td>\n",
       "      <td>65.5</td>\n",
       "      <td>52.4</td>\n",
       "      <td>152</td>\n",
       "      <td>154.0</td>\n",
       "      <td>19</td>\n",
       "      <td>26</td>\n",
       "      <td>16500</td>\n",
       "    </tr>\n",
       "    <tr>\n",
       "      <th>3</th>\n",
       "      <td>1</td>\n",
       "      <td>1</td>\n",
       "      <td>3</td>\n",
       "      <td>1</td>\n",
       "      <td>0</td>\n",
       "      <td>3</td>\n",
       "      <td>2</td>\n",
       "      <td>164.0</td>\n",
       "      <td>66.2</td>\n",
       "      <td>54.3</td>\n",
       "      <td>109</td>\n",
       "      <td>102.0</td>\n",
       "      <td>24</td>\n",
       "      <td>30</td>\n",
       "      <td>13950</td>\n",
       "    </tr>\n",
       "    <tr>\n",
       "      <th>4</th>\n",
       "      <td>1</td>\n",
       "      <td>1</td>\n",
       "      <td>3</td>\n",
       "      <td>0</td>\n",
       "      <td>0</td>\n",
       "      <td>3</td>\n",
       "      <td>2</td>\n",
       "      <td>164.0</td>\n",
       "      <td>66.4</td>\n",
       "      <td>54.3</td>\n",
       "      <td>136</td>\n",
       "      <td>115.0</td>\n",
       "      <td>18</td>\n",
       "      <td>22</td>\n",
       "      <td>17450</td>\n",
       "    </tr>\n",
       "  </tbody>\n",
       "</table>\n",
       "</div>"
      ],
      "text/plain": [
       "   make  fuel-type  body-style  drive-wheels  engine-location  engine-type  \\\n",
       "0     0          1           0             2                0            0   \n",
       "1     0          1           0             2                0            0   \n",
       "2     0          1           2             2                0            5   \n",
       "3     1          1           3             1                0            3   \n",
       "4     1          1           3             0                0            3   \n",
       "\n",
       "   symboling  normalized-losses  width  height  engine-size  horsepower  \\\n",
       "0          3              122.0   64.1    48.8          130       111.0   \n",
       "1          3              122.0   64.1    48.8          130       111.0   \n",
       "2          1              122.0   65.5    52.4          152       154.0   \n",
       "3          2              164.0   66.2    54.3          109       102.0   \n",
       "4          2              164.0   66.4    54.3          136       115.0   \n",
       "\n",
       "   city-mpg  highway-mpg  price  \n",
       "0        21           27  13495  \n",
       "1        21           27  16500  \n",
       "2        19           26  16500  \n",
       "3        24           30  13950  \n",
       "4        18           22  17450  "
      ]
     },
     "execution_count": 122,
     "metadata": {},
     "output_type": "execute_result"
    }
   ],
   "source": [
    "df.head()"
   ]
  },
  {
   "cell_type": "code",
   "execution_count": 123,
   "id": "103e4dab-9681-47f3-92ed-46d8f145ee43",
   "metadata": {},
   "outputs": [
    {
     "data": {
      "text/plain": [
       "<Axes: >"
      ]
     },
     "execution_count": 123,
     "metadata": {},
     "output_type": "execute_result"
    },
    {
     "data": {
      "image/png": "[encoded data removed]",
      "text/plain": [
       "<Figure size 1000x800 with 2 Axes>"
      ]
     },
     "metadata": {},
     "output_type": "display_data"
    }
   ],
   "source": [
    "plt.figure(figsize=[10,8])\n",
    "sns.heatmap(df.corr(),annot=True)"
   ]
  },
  {
   "cell_type": "markdown",
   "id": "3c53a4d7-986e-4396-aec4-6fdb077ae336",
   "metadata": {},
   "source": [
    "<font size=\"6\">8. Splitting Data into x and y</font>"
   ]
  },
  {
   "cell_type": "code",
   "execution_count": 124,
   "id": "f8625e2a-b29b-4445-b68e-d2458c189dce",
   "metadata": {},
   "outputs": [
    {
     "data": {
      "text/html": [
       "<div>\n",
       "<style scoped>\n",
       "    .dataframe tbody tr th:only-of-type {\n",
       "        vertical-align: middle;\n",
       "    }\n",
       "\n",
       "    .dataframe tbody tr th {\n",
       "        vertical-align: top;\n",
       "    }\n",
       "\n",
       "    .dataframe thead th {\n",
       "        text-align: right;\n",
       "    }\n",
       "</style>\n",
       "<table border=\"1\" class=\"dataframe\">\n",
       "  <thead>\n",
       "    <tr style=\"text-align: right;\">\n",
       "      <th></th>\n",
       "      <th>make</th>\n",
       "      <th>fuel-type</th>\n",
       "      <th>body-style</th>\n",
       "      <th>drive-wheels</th>\n",
       "      <th>engine-location</th>\n",
       "      <th>engine-type</th>\n",
       "      <th>symboling</th>\n",
       "      <th>normalized-losses</th>\n",
       "      <th>width</th>\n",
       "      <th>height</th>\n",
       "      <th>engine-size</th>\n",
       "      <th>horsepower</th>\n",
       "      <th>city-mpg</th>\n",
       "      <th>highway-mpg</th>\n",
       "    </tr>\n",
       "  </thead>\n",
       "  <tbody>\n",
       "    <tr>\n",
       "      <th>0</th>\n",
       "      <td>0</td>\n",
       "      <td>1</td>\n",
       "      <td>0</td>\n",
       "      <td>2</td>\n",
       "      <td>0</td>\n",
       "      <td>0</td>\n",
       "      <td>3</td>\n",
       "      <td>122.0</td>\n",
       "      <td>64.1</td>\n",
       "      <td>48.8</td>\n",
       "      <td>130</td>\n",
       "      <td>111.0</td>\n",
       "      <td>21</td>\n",
       "      <td>27</td>\n",
       "    </tr>\n",
       "    <tr>\n",
       "      <th>1</th>\n",
       "      <td>0</td>\n",
       "      <td>1</td>\n",
       "      <td>0</td>\n",
       "      <td>2</td>\n",
       "      <td>0</td>\n",
       "      <td>0</td>\n",
       "      <td>3</td>\n",
       "      <td>122.0</td>\n",
       "      <td>64.1</td>\n",
       "      <td>48.8</td>\n",
       "      <td>130</td>\n",
       "      <td>111.0</td>\n",
       "      <td>21</td>\n",
       "      <td>27</td>\n",
       "    </tr>\n",
       "    <tr>\n",
       "      <th>2</th>\n",
       "      <td>0</td>\n",
       "      <td>1</td>\n",
       "      <td>2</td>\n",
       "      <td>2</td>\n",
       "      <td>0</td>\n",
       "      <td>5</td>\n",
       "      <td>1</td>\n",
       "      <td>122.0</td>\n",
       "      <td>65.5</td>\n",
       "      <td>52.4</td>\n",
       "      <td>152</td>\n",
       "      <td>154.0</td>\n",
       "      <td>19</td>\n",
       "      <td>26</td>\n",
       "    </tr>\n",
       "    <tr>\n",
       "      <th>3</th>\n",
       "      <td>1</td>\n",
       "      <td>1</td>\n",
       "      <td>3</td>\n",
       "      <td>1</td>\n",
       "      <td>0</td>\n",
       "      <td>3</td>\n",
       "      <td>2</td>\n",
       "      <td>164.0</td>\n",
       "      <td>66.2</td>\n",
       "      <td>54.3</td>\n",
       "      <td>109</td>\n",
       "      <td>102.0</td>\n",
       "      <td>24</td>\n",
       "      <td>30</td>\n",
       "    </tr>\n",
       "    <tr>\n",
       "      <th>4</th>\n",
       "      <td>1</td>\n",
       "      <td>1</td>\n",
       "      <td>3</td>\n",
       "      <td>0</td>\n",
       "      <td>0</td>\n",
       "      <td>3</td>\n",
       "      <td>2</td>\n",
       "      <td>164.0</td>\n",
       "      <td>66.4</td>\n",
       "      <td>54.3</td>\n",
       "      <td>136</td>\n",
       "      <td>115.0</td>\n",
       "      <td>18</td>\n",
       "      <td>22</td>\n",
       "    </tr>\n",
       "    <tr>\n",
       "      <th>...</th>\n",
       "      <td>...</td>\n",
       "      <td>...</td>\n",
       "      <td>...</td>\n",
       "      <td>...</td>\n",
       "      <td>...</td>\n",
       "      <td>...</td>\n",
       "      <td>...</td>\n",
       "      <td>...</td>\n",
       "      <td>...</td>\n",
       "      <td>...</td>\n",
       "      <td>...</td>\n",
       "      <td>...</td>\n",
       "      <td>...</td>\n",
       "      <td>...</td>\n",
       "    </tr>\n",
       "    <tr>\n",
       "      <th>200</th>\n",
       "      <td>21</td>\n",
       "      <td>1</td>\n",
       "      <td>3</td>\n",
       "      <td>2</td>\n",
       "      <td>0</td>\n",
       "      <td>3</td>\n",
       "      <td>-1</td>\n",
       "      <td>95.0</td>\n",
       "      <td>68.9</td>\n",
       "      <td>55.5</td>\n",
       "      <td>141</td>\n",
       "      <td>114.0</td>\n",
       "      <td>23</td>\n",
       "      <td>28</td>\n",
       "    </tr>\n",
       "    <tr>\n",
       "      <th>201</th>\n",
       "      <td>21</td>\n",
       "      <td>1</td>\n",
       "      <td>3</td>\n",
       "      <td>2</td>\n",
       "      <td>0</td>\n",
       "      <td>3</td>\n",
       "      <td>-1</td>\n",
       "      <td>95.0</td>\n",
       "      <td>68.8</td>\n",
       "      <td>55.5</td>\n",
       "      <td>141</td>\n",
       "      <td>160.0</td>\n",
       "      <td>19</td>\n",
       "      <td>25</td>\n",
       "    </tr>\n",
       "    <tr>\n",
       "      <th>202</th>\n",
       "      <td>21</td>\n",
       "      <td>1</td>\n",
       "      <td>3</td>\n",
       "      <td>2</td>\n",
       "      <td>0</td>\n",
       "      <td>5</td>\n",
       "      <td>-1</td>\n",
       "      <td>95.0</td>\n",
       "      <td>68.9</td>\n",
       "      <td>55.5</td>\n",
       "      <td>173</td>\n",
       "      <td>134.0</td>\n",
       "      <td>18</td>\n",
       "      <td>23</td>\n",
       "    </tr>\n",
       "    <tr>\n",
       "      <th>203</th>\n",
       "      <td>21</td>\n",
       "      <td>0</td>\n",
       "      <td>3</td>\n",
       "      <td>2</td>\n",
       "      <td>0</td>\n",
       "      <td>3</td>\n",
       "      <td>-1</td>\n",
       "      <td>95.0</td>\n",
       "      <td>68.9</td>\n",
       "      <td>55.5</td>\n",
       "      <td>145</td>\n",
       "      <td>106.0</td>\n",
       "      <td>26</td>\n",
       "      <td>27</td>\n",
       "    </tr>\n",
       "    <tr>\n",
       "      <th>204</th>\n",
       "      <td>21</td>\n",
       "      <td>1</td>\n",
       "      <td>3</td>\n",
       "      <td>2</td>\n",
       "      <td>0</td>\n",
       "      <td>3</td>\n",
       "      <td>-1</td>\n",
       "      <td>95.0</td>\n",
       "      <td>68.9</td>\n",
       "      <td>55.5</td>\n",
       "      <td>141</td>\n",
       "      <td>114.0</td>\n",
       "      <td>19</td>\n",
       "      <td>25</td>\n",
       "    </tr>\n",
       "  </tbody>\n",
       "</table>\n",
       "<p>205 rows × 14 columns</p>\n",
       "</div>"
      ],
      "text/plain": [
       "     make  fuel-type  body-style  drive-wheels  engine-location  engine-type  \\\n",
       "0       0          1           0             2                0            0   \n",
       "1       0          1           0             2                0            0   \n",
       "2       0          1           2             2                0            5   \n",
       "3       1          1           3             1                0            3   \n",
       "4       1          1           3             0                0            3   \n",
       "..    ...        ...         ...           ...              ...          ...   \n",
       "200    21          1           3             2                0            3   \n",
       "201    21          1           3             2                0            3   \n",
       "202    21          1           3             2                0            5   \n",
       "203    21          0           3             2                0            3   \n",
       "204    21          1           3             2                0            3   \n",
       "\n",
       "     symboling  normalized-losses  width  height  engine-size  horsepower  \\\n",
       "0            3              122.0   64.1    48.8          130       111.0   \n",
       "1            3              122.0   64.1    48.8          130       111.0   \n",
       "2            1              122.0   65.5    52.4          152       154.0   \n",
       "3            2              164.0   66.2    54.3          109       102.0   \n",
       "4            2              164.0   66.4    54.3          136       115.0   \n",
       "..         ...                ...    ...     ...          ...         ...   \n",
       "200         -1               95.0   68.9    55.5          141       114.0   \n",
       "201         -1               95.0   68.8    55.5          141       160.0   \n",
       "202         -1               95.0   68.9    55.5          173       134.0   \n",
       "203         -1               95.0   68.9    55.5          145       106.0   \n",
       "204         -1               95.0   68.9    55.5          141       114.0   \n",
       "\n",
       "     city-mpg  highway-mpg  \n",
       "0          21           27  \n",
       "1          21           27  \n",
       "2          19           26  \n",
       "3          24           30  \n",
       "4          18           22  \n",
       "..        ...          ...  \n",
       "200        23           28  \n",
       "201        19           25  \n",
       "202        18           23  \n",
       "203        26           27  \n",
       "204        19           25  \n",
       "\n",
       "[205 rows x 14 columns]"
      ]
     },
     "execution_count": 124,
     "metadata": {},
     "output_type": "execute_result"
    }
   ],
   "source": [
    "x=df.iloc[:,:-1]\n",
    "x"
   ]
  },
  {
   "cell_type": "code",
   "execution_count": 125,
   "id": "617526ef-2874-4ec5-a080-bff793853eee",
   "metadata": {},
   "outputs": [
    {
     "data": {
      "text/plain": [
       "0      13495\n",
       "1      16500\n",
       "2      16500\n",
       "3      13950\n",
       "4      17450\n",
       "       ...  \n",
       "200    16845\n",
       "201    19045\n",
       "202    21485\n",
       "203    22470\n",
       "204    22625\n",
       "Name: price, Length: 205, dtype: int64"
      ]
     },
     "execution_count": 125,
     "metadata": {},
     "output_type": "execute_result"
    }
   ],
   "source": [
    "y=df['price']\n",
    "y"
   ]
  },
  {
   "cell_type": "markdown",
   "id": "2a957f08-999b-4d6d-868e-19b11360d092",
   "metadata": {},
   "source": [
    "<font size=\"6\">9.Splitting x and y into train and test</font>"
   ]
  },
  {
   "cell_type": "code",
   "execution_count": 126,
   "id": "6a1bf3df-fdeb-4eed-93fd-6c65486dbd37",
   "metadata": {},
   "outputs": [],
   "source": [
    "from sklearn.model_selection import train_test_split"
   ]
  },
  {
   "cell_type": "code",
   "execution_count": 56,
   "id": "93991ce5-7551-4688-8699-6d7e96f591ab",
   "metadata": {},
   "outputs": [],
   "source": [
    "xtrain,xtest,ytrain,ytest=train_test_split(x,y,test_size=0.30,random_state=1)"
   ]
  },
  {
   "cell_type": "markdown",
   "id": "33588829-895e-447b-b2f9-d10851ecad94",
   "metadata": {},
   "source": [
    "<font size=\"6\">10. Importing Required Libraries for Model</font>"
   ]
  },
  {
   "cell_type": "code",
   "execution_count": 57,
   "id": "468ddaba-c397-4b0e-bba1-7cd35bbc2773",
   "metadata": {},
   "outputs": [],
   "source": [
    "from sklearn.linear_model import LinearRegression\n",
    "from sklearn.metrics import r2_score"
   ]
  },
  {
   "cell_type": "markdown",
   "id": "b2c718bc-fb90-43e8-9dae-e57f697b0eab",
   "metadata": {},
   "source": [
    "<font size=\"6\">9. Building Model</font>"
   ]
  },
  {
   "cell_type": "code",
   "execution_count": 58,
   "id": "428fd3f3-4ea1-49ae-8031-08066b971a1a",
   "metadata": {},
   "outputs": [],
   "source": [
    "# creating instance of class\n",
    "lr=LinearRegression()\n",
    "lr.fit(xtrain,ytrain)\n",
    "ypred=lr.predict(xtest)"
   ]
  },
  {
   "cell_type": "code",
   "execution_count": 59,
   "id": "53cb5e80-d3d2-4c9e-ad2d-3967cdcc4a74",
   "metadata": {},
   "outputs": [
    {
     "data": {
      "text/plain": [
       "0.7965566780397365"
      ]
     },
     "execution_count": 59,
     "metadata": {},
     "output_type": "execute_result"
    }
   ],
   "source": [
    "#overall accuracy of model\n",
    "r2_score(ytest,ypred)"
   ]
  },
  {
   "cell_type": "code",
   "execution_count": 60,
   "id": "61ec9938-3517-4df9-abaa-e25a147ce5df",
   "metadata": {},
   "outputs": [
    {
     "name": "stdout",
     "output_type": "stream",
     "text": [
      "training accuracy: 0.8504573774895474\n"
     ]
    }
   ],
   "source": [
    "print(\"training accuracy:\",lr.score(xtrain,ytrain))"
   ]
  },
  {
   "cell_type": "code",
   "execution_count": 61,
   "id": "32323359-05b3-4e88-9b0b-b5d000f69840",
   "metadata": {},
   "outputs": [
    {
     "name": "stdout",
     "output_type": "stream",
     "text": [
      "testing accuracy: 0.7965566780397365\n"
     ]
    }
   ],
   "source": [
    "print(\"testing accuracy:\",lr.score(xtest,ytest))"
   ]
  },
  {
   "cell_type": "markdown",
   "id": "b3f32c6a-76c7-4dab-ab10-322ea5ecf15f",
   "metadata": {},
   "source": [
    "Since, training accuracy is high i.e Bias is low and variance is comparatively high. Thus, this model is overfitting model.\n",
    "We handle overfitting by using Regularization techniques: Lasso(L1) and Ridge(L2)."
   ]
  },
  {
   "cell_type": "markdown",
   "id": "9923b734-f5ab-4ff3-9c47-b2e48084e26e",
   "metadata": {},
   "source": [
    "<font size=\"6\">11. Regularization</font>"
   ]
  },
  {
   "cell_type": "markdown",
   "id": "c9cb6cd5-eda6-413c-abaf-f747d90b9d1b",
   "metadata": {},
   "source": [
    "Ridge or L2"
   ]
  },
  {
   "cell_type": "code",
   "execution_count": 62,
   "id": "19e85e6b-0737-475f-bd70-1b6f77aac609",
   "metadata": {},
   "outputs": [],
   "source": [
    "from sklearn.linear_model import Ridge,Lasso"
   ]
  },
  {
   "cell_type": "code",
   "execution_count": 63,
   "id": "a1965d30-620a-4886-9380-56fa5d25c3f6",
   "metadata": {},
   "outputs": [
    {
     "name": "stdout",
     "output_type": "stream",
     "text": [
      "training accuracy: 0.8214255248858177\n",
      "testing accuracy: 0.814174585353942\n"
     ]
    }
   ],
   "source": [
    "L2=Ridge(alpha=5)\n",
    "L2.fit(xtrain,ytrain)\n",
    "print(\"training accuracy:\",L2.score(xtrain,ytrain))\n",
    "print(\"testing accuracy:\",L2.score(xtest,ytest))"
   ]
  },
  {
   "cell_type": "markdown",
   "id": "8e1ad4b3-0745-4d75-80a7-7e3a2386a9a9",
   "metadata": {},
   "source": [
    "Now, training accuracy is reduced to 0.8214255248858177 from  0.8504573774895474  i.e Bias is comparatively high than before and testing accuracy is 0.814174585353942 as well. Thus, we handled overfitting by using Ridge(L2) technique."
   ]
  },
  {
   "cell_type": "code",
   "execution_count": 64,
   "id": "1cbcdea7-bb92-4100-983e-9c7c3c594a36",
   "metadata": {},
   "outputs": [
    {
     "name": "stdout",
     "output_type": "stream",
     "text": [
      " value of 1, training :0.8436019887231634, testing : 0.8074518758147271\n",
      " value of 2, training :0.8356568294333325, testing : 0.8110292248150515\n",
      " value of 3, training :0.8295966853783839, testing : 0.8126933383890036\n",
      " value of 4, training :0.8250050456621352, testing : 0.8136148645029302\n",
      " value of 5, training :0.8214255248858177, testing : 0.814174585353942\n",
      " value of 6, training :0.8185497905642731, testing : 0.814530124213336\n",
      " value of 7, training :0.8161775446879695, testing : 0.8147582608502814\n",
      " value of 8, training :0.8141763553347593, testing : 0.8149010602831953\n",
      " value of 9, training :0.8124561449821562, testing : 0.8149836949253053\n",
      " value of 10, training :0.8109538582620311, testing : 0.8150222867376526\n",
      " value of 11, training :0.8096241695970485, testing : 0.815027724543179\n",
      " value of 12, training :0.8084337140523126, testing : 0.8150076788279418\n",
      " value of 13, training :0.8073574061115952, testing : 0.8149677381788263\n",
      " value of 14, training :0.8063760269401785, testing : 0.8149120868051174\n",
      " value of 15, training :0.8054746030665226, testing : 0.8148439278252522\n",
      " value of 16, training :0.804641291734184, testing : 0.8147657584947388\n",
      " value of 17, training :0.8038665985400392, testing : 0.8146795554128125\n",
      " value of 18, training :0.803142817883897, testing : 0.8145869029046833\n",
      " value of 19, training :0.8024636258876571, testing : 0.8144890843369585\n",
      " value of 20, training :0.8018237796035674, testing : 0.8143871485445552\n"
     ]
    }
   ],
   "source": [
    "#finding best value of alpha using Ridge technique\n",
    "for i in range(1,21):\n",
    "    L2 = Ridge(alpha=i)\n",
    "    L2.fit(xtrain,ytrain)\n",
    "    training = L2.score(xtrain,ytrain)\n",
    "    testing= L2.score(xtest,ytest)\n",
    "    print(f\" value of {i}, training :{training}, testing : {testing}\")"
   ]
  },
  {
   "cell_type": "markdown",
   "id": "c562c8ee-ae42-46fe-950e-c9da2842e2a5",
   "metadata": {},
   "source": [
    "From above output we can see that the best alpha value is 1."
   ]
  },
  {
   "cell_type": "code",
   "execution_count": 65,
   "id": "e107c6c5-3b16-4a69-93a5-fee5a79eb6e6",
   "metadata": {},
   "outputs": [
    {
     "name": "stdout",
     "output_type": "stream",
     "text": [
      "training accuracy: 0.8436019887231634\n",
      "testing accuracy: 0.8074518758147271\n"
     ]
    }
   ],
   "source": [
    "#with best value of alpha\n",
    "L2=Ridge(alpha=1)\n",
    "L2.fit(xtrain,ytrain)\n",
    "print(\"training accuracy:\",L2.score(xtrain,ytrain))\n",
    "print(\"testing accuracy:\",L2.score(xtest,ytest))"
   ]
  },
  {
   "cell_type": "markdown",
   "id": "a45d2c9b-40e3-46f9-ac5e-4bdefbe49bba",
   "metadata": {},
   "source": [
    "With the best value of alpha we have training accuracy as 0.8436019887231634 and testing accuracy as 0.8074518758147271.\n",
    "The optimal value of alpha minimizes the prediction error on unseen data, balancing the model's ability to fit the training data well while avoiding overfitting.\n"
   ]
  },
  {
   "cell_type": "markdown",
   "id": "9e0b2f28-8f0f-4f41-a58c-d56a99672850",
   "metadata": {},
   "source": [
    "Lasso or L1"
   ]
  },
  {
   "cell_type": "code",
   "execution_count": 66,
   "id": "093faa1d-a1a6-41ce-b758-d1c929747cb8",
   "metadata": {},
   "outputs": [
    {
     "name": "stdout",
     "output_type": "stream",
     "text": [
      "training accuracy: 0.8504235531596668\n",
      "testing accuracy: 0.7974142904692177\n"
     ]
    }
   ],
   "source": [
    "L1=Lasso(alpha=5)\n",
    "L1.fit(xtrain,ytrain)\n",
    "print(\"training accuracy:\",L1.score(xtrain,ytrain))\n",
    "print(\"testing accuracy:\",L1.score(xtest,ytest))"
   ]
  },
  {
   "cell_type": "markdown",
   "id": "b16290d8-77df-43df-bad4-65e21d167eb0",
   "metadata": {},
   "source": [
    "Now, training accuracy is 0.8504573774895474 and testing accuracy is 0.797414290469217 by using Lasso(L1) technique."
   ]
  },
  {
   "cell_type": "code",
   "execution_count": 67,
   "id": "02c15729-aebf-427f-8a2a-e5a573a73153",
   "metadata": {},
   "outputs": [
    {
     "name": "stdout",
     "output_type": "stream",
     "text": [
      " value of 1, training :0.8504560242711514, testing : 0.796730369350857\n",
      " value of 2, training :0.8504519649724868, testing : 0.7969029643072696\n",
      " value of 3, training :0.85044519979074, testing : 0.7970744868927715\n",
      " value of 4, training :0.850435728799345, testing : 0.7972449437327999\n",
      " value of 5, training :0.8504235531596668, testing : 0.7974142904692177\n",
      " value of 6, training :0.8504086731278608, testing : 0.7975825442845723\n",
      " value of 7, training :0.8503910876856386, testing : 0.7977497507644266\n",
      " value of 8, training :0.8503707966404348, testing : 0.797915910924912\n",
      " value of 9, training :0.8503478028895252, testing : 0.7980809536937493\n",
      " value of 10, training :0.8503221042887765, testing : 0.7982449418662234\n",
      " value of 11, training :0.8502937007864542, testing : 0.7984078755631447\n",
      " value of 12, training :0.8502625923292507, testing : 0.7985697548820114\n",
      " value of 13, training :0.8502287788600621, testing : 0.7987305799408919\n",
      " value of 14, training :0.8501922661432697, testing : 0.7988902650826741\n",
      " value of 15, training :0.8501530431754476, testing : 0.799048978194022\n",
      " value of 16, training :0.8501111150525666, testing : 0.7992066373341439\n",
      " value of 17, training :0.8500664894462385, testing : 0.7993631494704916\n",
      " value of 18, training :0.8500191516502194, testing : 0.7995186968831662\n",
      " value of 19, training :0.8499691175710131, testing : 0.7996730938415624\n",
      " value of 20, training :0.849916379465975, testing : 0.7998264335352288\n"
     ]
    }
   ],
   "source": [
    "#finding best value of alpha using Lasso technique\n",
    "for i in range(1,21):\n",
    "    L1 = Lasso(alpha=i)\n",
    "    L1.fit(xtrain,ytrain)\n",
    "    training = L1.score(xtrain,ytrain)\n",
    "    testing= L1.score(xtest,ytest)\n",
    "    print(f\" value of {i}, training :{training}, testing : {testing}\")"
   ]
  },
  {
   "cell_type": "markdown",
   "id": "3590537b-a4c0-4ff6-872c-72d39733bc83",
   "metadata": {},
   "source": [
    "From above output we can see that training accuracy and testing accuracy are almost same for most alpha values. So, our assumption of alpha=5 using Lasso technique is correct."
   ]
  },
  {
   "cell_type": "markdown",
   "id": "092a2d43-6474-4e65-949f-f514b0a62f54",
   "metadata": {},
   "source": [
    "<font size=\"6\">12.Conclusion</font>"
   ]
  },
  {
   "cell_type": "markdown",
   "id": "e81441a1-6b78-401a-a522-826f7d531585",
   "metadata": {},
   "source": [
    "The original model, without any regularization, achieved a training accuracy of approximately 0.850 and a testing accuracy of around 0.797.\n",
    "This indicates that the initial model had a relatively high training accuracy but showed signs of overfitting as the testing accuracy was slightly lower.\n",
    "Following the application of Ridge (L2) and Lasso (L1) regularization techniques:\r\n",
    "Ridge (L2) with an alpha of 1 achieved a training accuracy of about 0.844 and a testing accuracy of around 0.807, showing a reduction in overfitting.\r\n",
    "Lasso (L1) with an alpha of 5 resulted in a training accuracy of approximately 0.850 and a testing accuracy of about 0.797, also addressing overfittin\n",
    "Regularization techniques like Ridge and Lasso effectively mitigated overfitting issues observed in the initial model, leading to improved generalization performance on unseen data.g."
   ]
  }
 ],
 "metadata": {
  "kernelspec": {
   "display_name": "Python 3 (ipykernel)",
   "language": "python",
   "name": "python3"
  },
  "language_info": {
   "codemirror_mode": {
    "name": "ipython",
    "version": 3
   },
   "file_extension": ".py",
   "mimetype": "text/x-python",
   "name": "python",
   "nbconvert_exporter": "python",
   "pygments_lexer": "ipython3",
   "version": "3.12.2"
  }
 },
 "nbformat": 4,
 "nbformat_minor": 5
}
